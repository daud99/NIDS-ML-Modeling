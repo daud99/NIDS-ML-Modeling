{
 "cells": [
  {
   "cell_type": "code",
   "execution_count": 1,
   "id": "73ed7452",
   "metadata": {
    "execution": {
     "iopub.execute_input": "2022-05-31T17:03:31.392867Z",
     "iopub.status.busy": "2022-05-31T17:03:31.392017Z",
     "iopub.status.idle": "2022-05-31T17:03:31.408532Z",
     "shell.execute_reply": "2022-05-31T17:03:31.407661Z"
    },
    "executionInfo": {
     "elapsed": 3164,
     "status": "ok",
     "timestamp": 1653675205568,
     "user": {
      "displayName": "daud ahmed",
      "userId": "17443567617331579901"
     },
     "user_tz": 240
    },
    "id": "426dbc28",
    "outputId": "c0c10e72-07e6-4da0-9f8a-7c9a00be8015",
    "papermill": {
     "duration": 0.028054,
     "end_time": "2022-05-31T17:03:31.413612",
     "exception": false,
     "start_time": "2022-05-31T17:03:31.385558",
     "status": "completed"
    },
    "tags": []
   },
   "outputs": [
    {
     "name": "stdout",
     "output_type": "stream",
     "text": [
      "/kaggle/input/csics2017/cleanDatasetWithoutEncoding.csv\n"
     ]
    }
   ],
   "source": [
    "# This Python 3 environment comes with many helpful analytics libraries installed\n",
    "# It is defined by the kaggle/python Docker image: https://github.com/kaggle/docker-python\n",
    "# For example, here's several helpful packages to load\n",
    "\n",
    "import numpy as np # linear algebra\n",
    "import pandas as pd # data processing, CSV file I/O (e.g. pd.read_csv)\n",
    "\n",
    "# Input data files are available in the read-only \"../input/\" directory\n",
    "# For example, running this (by clicking run or pressing Shift+Enter) will list all files under the input directory\n",
    "\n",
    "import os\n",
    "for dirname, _, filenames in os.walk('/kaggle/input'):\n",
    "    for filename in filenames:\n",
    "        print(os.path.join(dirname, filename))\n",
    "\n",
    "# You can write up to 20GB to the current directory (/kaggle/working/) that gets preserved as output when you create a version using \"Save & Run All\" \n",
    "# You can also write temporary files to /kaggle/temp/, but they won't be saved outside of the current session"
   ]
  },
  {
   "cell_type": "code",
   "execution_count": 2,
   "id": "2310220c",
   "metadata": {
    "execution": {
     "iopub.execute_input": "2022-05-31T17:03:31.423995Z",
     "iopub.status.busy": "2022-05-31T17:03:31.423423Z",
     "iopub.status.idle": "2022-05-31T17:03:59.040705Z",
     "shell.execute_reply": "2022-05-31T17:03:59.039925Z"
    },
    "executionInfo": {
     "elapsed": 8,
     "status": "ok",
     "timestamp": 1653675205570,
     "user": {
      "displayName": "daud ahmed",
      "userId": "17443567617331579901"
     },
     "user_tz": 240
    },
    "id": "xIq1KAzAOwFL",
    "papermill": {
     "duration": 27.624216,
     "end_time": "2022-05-31T17:03:59.042876",
     "exception": false,
     "start_time": "2022-05-31T17:03:31.418660",
     "status": "completed"
    },
    "tags": []
   },
   "outputs": [],
   "source": [
    "dataset = pd.read_csv('../input/csics2017/cleanDatasetWithoutEncoding.csv')"
   ]
  },
  {
   "cell_type": "code",
   "execution_count": 3,
   "id": "bf78a76c",
   "metadata": {
    "execution": {
     "iopub.execute_input": "2022-05-31T17:03:59.052103Z",
     "iopub.status.busy": "2022-05-31T17:03:59.051272Z",
     "iopub.status.idle": "2022-05-31T17:04:00.049194Z",
     "shell.execute_reply": "2022-05-31T17:04:00.048360Z"
    },
    "executionInfo": {
     "elapsed": 2380,
     "status": "ok",
     "timestamp": 1653675207944,
     "user": {
      "displayName": "daud ahmed",
      "userId": "17443567617331579901"
     },
     "user_tz": 240
    },
    "id": "51eeb3c3",
    "papermill": {
     "duration": 1.004863,
     "end_time": "2022-05-31T17:04:00.051584",
     "exception": false,
     "start_time": "2022-05-31T17:03:59.046721",
     "status": "completed"
    },
    "tags": []
   },
   "outputs": [],
   "source": [
    "import os\n",
    "import pandas as pd\n",
    "import numpy as np\n",
    "import matplotlib.pyplot as plt\n",
    "%matplotlib inline\n",
    "import seaborn as sns"
   ]
  },
  {
   "cell_type": "code",
   "execution_count": 4,
   "id": "1a7ef0d7",
   "metadata": {
    "execution": {
     "iopub.execute_input": "2022-05-31T17:04:00.060793Z",
     "iopub.status.busy": "2022-05-31T17:04:00.059918Z",
     "iopub.status.idle": "2022-05-31T17:04:00.096954Z",
     "shell.execute_reply": "2022-05-31T17:04:00.096149Z"
    },
    "executionInfo": {
     "elapsed": 31,
     "status": "ok",
     "timestamp": 1653675247591,
     "user": {
      "displayName": "daud ahmed",
      "userId": "17443567617331579901"
     },
     "user_tz": 240
    },
    "id": "09ba93e1",
    "outputId": "9e237023-f9b2-4b18-d542-32d47ad39265",
    "papermill": {
     "duration": 0.043941,
     "end_time": "2022-05-31T17:04:00.099296",
     "exception": false,
     "start_time": "2022-05-31T17:04:00.055355",
     "status": "completed"
    },
    "tags": []
   },
   "outputs": [
    {
     "data": {
      "text/html": [
       "<div>\n",
       "<style scoped>\n",
       "    .dataframe tbody tr th:only-of-type {\n",
       "        vertical-align: middle;\n",
       "    }\n",
       "\n",
       "    .dataframe tbody tr th {\n",
       "        vertical-align: top;\n",
       "    }\n",
       "\n",
       "    .dataframe thead th {\n",
       "        text-align: right;\n",
       "    }\n",
       "</style>\n",
       "<table border=\"1\" class=\"dataframe\">\n",
       "  <thead>\n",
       "    <tr style=\"text-align: right;\">\n",
       "      <th></th>\n",
       "      <th>DestinationPort</th>\n",
       "      <th>FlowDuration</th>\n",
       "      <th>TotalFwdPackets</th>\n",
       "      <th>TotalBackwardPackets</th>\n",
       "      <th>TotalLengthofFwdPackets</th>\n",
       "      <th>TotalLengthofBwdPackets</th>\n",
       "      <th>FwdPacketLengthMax</th>\n",
       "      <th>FwdPacketLengthMin</th>\n",
       "      <th>FwdPacketLengthMean</th>\n",
       "      <th>FwdPacketLengthStd</th>\n",
       "      <th>...</th>\n",
       "      <th>min_seg_size_forward</th>\n",
       "      <th>ActiveMean</th>\n",
       "      <th>ActiveStd</th>\n",
       "      <th>ActiveMax</th>\n",
       "      <th>ActiveMin</th>\n",
       "      <th>IdleMean</th>\n",
       "      <th>IdleStd</th>\n",
       "      <th>IdleMax</th>\n",
       "      <th>IdleMin</th>\n",
       "      <th>Label</th>\n",
       "    </tr>\n",
       "  </thead>\n",
       "  <tbody>\n",
       "    <tr>\n",
       "      <th>0</th>\n",
       "      <td>49188.0</td>\n",
       "      <td>4.0</td>\n",
       "      <td>2.0</td>\n",
       "      <td>0.0</td>\n",
       "      <td>12.0</td>\n",
       "      <td>0.0</td>\n",
       "      <td>6.0</td>\n",
       "      <td>6.0</td>\n",
       "      <td>6.000000</td>\n",
       "      <td>0.000000</td>\n",
       "      <td>...</td>\n",
       "      <td>20.0</td>\n",
       "      <td>0.0</td>\n",
       "      <td>0.0</td>\n",
       "      <td>0.0</td>\n",
       "      <td>0.0</td>\n",
       "      <td>0.0</td>\n",
       "      <td>0.0</td>\n",
       "      <td>0.0</td>\n",
       "      <td>0.0</td>\n",
       "      <td>normal</td>\n",
       "    </tr>\n",
       "    <tr>\n",
       "      <th>1</th>\n",
       "      <td>49486.0</td>\n",
       "      <td>3.0</td>\n",
       "      <td>2.0</td>\n",
       "      <td>0.0</td>\n",
       "      <td>12.0</td>\n",
       "      <td>0.0</td>\n",
       "      <td>6.0</td>\n",
       "      <td>6.0</td>\n",
       "      <td>6.000000</td>\n",
       "      <td>0.000000</td>\n",
       "      <td>...</td>\n",
       "      <td>20.0</td>\n",
       "      <td>0.0</td>\n",
       "      <td>0.0</td>\n",
       "      <td>0.0</td>\n",
       "      <td>0.0</td>\n",
       "      <td>0.0</td>\n",
       "      <td>0.0</td>\n",
       "      <td>0.0</td>\n",
       "      <td>0.0</td>\n",
       "      <td>normal</td>\n",
       "    </tr>\n",
       "    <tr>\n",
       "      <th>2</th>\n",
       "      <td>88.0</td>\n",
       "      <td>609.0</td>\n",
       "      <td>7.0</td>\n",
       "      <td>4.0</td>\n",
       "      <td>484.0</td>\n",
       "      <td>414.0</td>\n",
       "      <td>233.0</td>\n",
       "      <td>0.0</td>\n",
       "      <td>69.142860</td>\n",
       "      <td>111.967896</td>\n",
       "      <td>...</td>\n",
       "      <td>20.0</td>\n",
       "      <td>0.0</td>\n",
       "      <td>0.0</td>\n",
       "      <td>0.0</td>\n",
       "      <td>0.0</td>\n",
       "      <td>0.0</td>\n",
       "      <td>0.0</td>\n",
       "      <td>0.0</td>\n",
       "      <td>0.0</td>\n",
       "      <td>normal</td>\n",
       "    </tr>\n",
       "    <tr>\n",
       "      <th>3</th>\n",
       "      <td>88.0</td>\n",
       "      <td>879.0</td>\n",
       "      <td>9.0</td>\n",
       "      <td>4.0</td>\n",
       "      <td>656.0</td>\n",
       "      <td>3064.0</td>\n",
       "      <td>313.0</td>\n",
       "      <td>0.0</td>\n",
       "      <td>72.888885</td>\n",
       "      <td>136.153810</td>\n",
       "      <td>...</td>\n",
       "      <td>20.0</td>\n",
       "      <td>0.0</td>\n",
       "      <td>0.0</td>\n",
       "      <td>0.0</td>\n",
       "      <td>0.0</td>\n",
       "      <td>0.0</td>\n",
       "      <td>0.0</td>\n",
       "      <td>0.0</td>\n",
       "      <td>0.0</td>\n",
       "      <td>normal</td>\n",
       "    </tr>\n",
       "    <tr>\n",
       "      <th>4</th>\n",
       "      <td>88.0</td>\n",
       "      <td>1160.0</td>\n",
       "      <td>9.0</td>\n",
       "      <td>6.0</td>\n",
       "      <td>3134.0</td>\n",
       "      <td>3048.0</td>\n",
       "      <td>1552.0</td>\n",
       "      <td>0.0</td>\n",
       "      <td>348.222230</td>\n",
       "      <td>682.482540</td>\n",
       "      <td>...</td>\n",
       "      <td>20.0</td>\n",
       "      <td>0.0</td>\n",
       "      <td>0.0</td>\n",
       "      <td>0.0</td>\n",
       "      <td>0.0</td>\n",
       "      <td>0.0</td>\n",
       "      <td>0.0</td>\n",
       "      <td>0.0</td>\n",
       "      <td>0.0</td>\n",
       "      <td>normal</td>\n",
       "    </tr>\n",
       "  </tbody>\n",
       "</table>\n",
       "<p>5 rows × 71 columns</p>\n",
       "</div>"
      ],
      "text/plain": [
       "   DestinationPort  FlowDuration  TotalFwdPackets  TotalBackwardPackets  \\\n",
       "0          49188.0           4.0              2.0                   0.0   \n",
       "1          49486.0           3.0              2.0                   0.0   \n",
       "2             88.0         609.0              7.0                   4.0   \n",
       "3             88.0         879.0              9.0                   4.0   \n",
       "4             88.0        1160.0              9.0                   6.0   \n",
       "\n",
       "   TotalLengthofFwdPackets  TotalLengthofBwdPackets  FwdPacketLengthMax  \\\n",
       "0                     12.0                      0.0                 6.0   \n",
       "1                     12.0                      0.0                 6.0   \n",
       "2                    484.0                    414.0               233.0   \n",
       "3                    656.0                   3064.0               313.0   \n",
       "4                   3134.0                   3048.0              1552.0   \n",
       "\n",
       "   FwdPacketLengthMin  FwdPacketLengthMean  FwdPacketLengthStd  ...  \\\n",
       "0                 6.0             6.000000            0.000000  ...   \n",
       "1                 6.0             6.000000            0.000000  ...   \n",
       "2                 0.0            69.142860          111.967896  ...   \n",
       "3                 0.0            72.888885          136.153810  ...   \n",
       "4                 0.0           348.222230          682.482540  ...   \n",
       "\n",
       "   min_seg_size_forward  ActiveMean  ActiveStd  ActiveMax  ActiveMin  \\\n",
       "0                  20.0         0.0        0.0        0.0        0.0   \n",
       "1                  20.0         0.0        0.0        0.0        0.0   \n",
       "2                  20.0         0.0        0.0        0.0        0.0   \n",
       "3                  20.0         0.0        0.0        0.0        0.0   \n",
       "4                  20.0         0.0        0.0        0.0        0.0   \n",
       "\n",
       "   IdleMean  IdleStd  IdleMax  IdleMin   Label  \n",
       "0       0.0      0.0      0.0      0.0  normal  \n",
       "1       0.0      0.0      0.0      0.0  normal  \n",
       "2       0.0      0.0      0.0      0.0  normal  \n",
       "3       0.0      0.0      0.0      0.0  normal  \n",
       "4       0.0      0.0      0.0      0.0  normal  \n",
       "\n",
       "[5 rows x 71 columns]"
      ]
     },
     "execution_count": 4,
     "metadata": {},
     "output_type": "execute_result"
    }
   ],
   "source": [
    "dataset.head()"
   ]
  },
  {
   "cell_type": "markdown",
   "id": "e5c8dbd9",
   "metadata": {
    "id": "4wx5IX3KPBxM",
    "papermill": {
     "duration": 0.003808,
     "end_time": "2022-05-31T17:04:00.107243",
     "exception": false,
     "start_time": "2022-05-31T17:04:00.103435",
     "status": "completed"
    },
    "tags": []
   },
   "source": [
    "## Train Test Split"
   ]
  },
  {
   "cell_type": "code",
   "execution_count": 5,
   "id": "1c016a69",
   "metadata": {
    "execution": {
     "iopub.execute_input": "2022-05-31T17:04:00.116948Z",
     "iopub.status.busy": "2022-05-31T17:04:00.116206Z",
     "iopub.status.idle": "2022-05-31T17:04:01.326967Z",
     "shell.execute_reply": "2022-05-31T17:04:01.325934Z"
    },
    "executionInfo": {
     "elapsed": 2798,
     "status": "ok",
     "timestamp": 1653675250365,
     "user": {
      "displayName": "daud ahmed",
      "userId": "17443567617331579901"
     },
     "user_tz": 240
    },
    "id": "q1jLr6pvPA1y",
    "outputId": "6fe5277a-5a33-4b2c-a9b3-32948d7ee139",
    "papermill": {
     "duration": 1.217775,
     "end_time": "2022-05-31T17:04:01.328996",
     "exception": false,
     "start_time": "2022-05-31T17:04:00.111221",
     "status": "completed"
    },
    "tags": []
   },
   "outputs": [
    {
     "data": {
      "text/html": [
       "<div>\n",
       "<style scoped>\n",
       "    .dataframe tbody tr th:only-of-type {\n",
       "        vertical-align: middle;\n",
       "    }\n",
       "\n",
       "    .dataframe tbody tr th {\n",
       "        vertical-align: top;\n",
       "    }\n",
       "\n",
       "    .dataframe thead th {\n",
       "        text-align: right;\n",
       "    }\n",
       "</style>\n",
       "<table border=\"1\" class=\"dataframe\">\n",
       "  <thead>\n",
       "    <tr style=\"text-align: right;\">\n",
       "      <th></th>\n",
       "      <th>DestinationPort</th>\n",
       "      <th>FlowDuration</th>\n",
       "      <th>TotalFwdPackets</th>\n",
       "      <th>TotalBackwardPackets</th>\n",
       "      <th>TotalLengthofFwdPackets</th>\n",
       "      <th>TotalLengthofBwdPackets</th>\n",
       "      <th>FwdPacketLengthMax</th>\n",
       "      <th>FwdPacketLengthMin</th>\n",
       "      <th>FwdPacketLengthMean</th>\n",
       "      <th>FwdPacketLengthStd</th>\n",
       "      <th>...</th>\n",
       "      <th>act_data_pkt_fwd</th>\n",
       "      <th>min_seg_size_forward</th>\n",
       "      <th>ActiveMean</th>\n",
       "      <th>ActiveStd</th>\n",
       "      <th>ActiveMax</th>\n",
       "      <th>ActiveMin</th>\n",
       "      <th>IdleMean</th>\n",
       "      <th>IdleStd</th>\n",
       "      <th>IdleMax</th>\n",
       "      <th>IdleMin</th>\n",
       "    </tr>\n",
       "  </thead>\n",
       "  <tbody>\n",
       "    <tr>\n",
       "      <th>0</th>\n",
       "      <td>49188.0</td>\n",
       "      <td>4.0</td>\n",
       "      <td>2.0</td>\n",
       "      <td>0.0</td>\n",
       "      <td>12.0</td>\n",
       "      <td>0.0</td>\n",
       "      <td>6.0</td>\n",
       "      <td>6.0</td>\n",
       "      <td>6.000000</td>\n",
       "      <td>0.000000</td>\n",
       "      <td>...</td>\n",
       "      <td>1.0</td>\n",
       "      <td>20.0</td>\n",
       "      <td>0.0</td>\n",
       "      <td>0.0</td>\n",
       "      <td>0.0</td>\n",
       "      <td>0.0</td>\n",
       "      <td>0.0</td>\n",
       "      <td>0.0</td>\n",
       "      <td>0.0</td>\n",
       "      <td>0.0</td>\n",
       "    </tr>\n",
       "    <tr>\n",
       "      <th>1</th>\n",
       "      <td>49486.0</td>\n",
       "      <td>3.0</td>\n",
       "      <td>2.0</td>\n",
       "      <td>0.0</td>\n",
       "      <td>12.0</td>\n",
       "      <td>0.0</td>\n",
       "      <td>6.0</td>\n",
       "      <td>6.0</td>\n",
       "      <td>6.000000</td>\n",
       "      <td>0.000000</td>\n",
       "      <td>...</td>\n",
       "      <td>1.0</td>\n",
       "      <td>20.0</td>\n",
       "      <td>0.0</td>\n",
       "      <td>0.0</td>\n",
       "      <td>0.0</td>\n",
       "      <td>0.0</td>\n",
       "      <td>0.0</td>\n",
       "      <td>0.0</td>\n",
       "      <td>0.0</td>\n",
       "      <td>0.0</td>\n",
       "    </tr>\n",
       "    <tr>\n",
       "      <th>2</th>\n",
       "      <td>88.0</td>\n",
       "      <td>609.0</td>\n",
       "      <td>7.0</td>\n",
       "      <td>4.0</td>\n",
       "      <td>484.0</td>\n",
       "      <td>414.0</td>\n",
       "      <td>233.0</td>\n",
       "      <td>0.0</td>\n",
       "      <td>69.142860</td>\n",
       "      <td>111.967896</td>\n",
       "      <td>...</td>\n",
       "      <td>5.0</td>\n",
       "      <td>20.0</td>\n",
       "      <td>0.0</td>\n",
       "      <td>0.0</td>\n",
       "      <td>0.0</td>\n",
       "      <td>0.0</td>\n",
       "      <td>0.0</td>\n",
       "      <td>0.0</td>\n",
       "      <td>0.0</td>\n",
       "      <td>0.0</td>\n",
       "    </tr>\n",
       "    <tr>\n",
       "      <th>3</th>\n",
       "      <td>88.0</td>\n",
       "      <td>879.0</td>\n",
       "      <td>9.0</td>\n",
       "      <td>4.0</td>\n",
       "      <td>656.0</td>\n",
       "      <td>3064.0</td>\n",
       "      <td>313.0</td>\n",
       "      <td>0.0</td>\n",
       "      <td>72.888885</td>\n",
       "      <td>136.153810</td>\n",
       "      <td>...</td>\n",
       "      <td>7.0</td>\n",
       "      <td>20.0</td>\n",
       "      <td>0.0</td>\n",
       "      <td>0.0</td>\n",
       "      <td>0.0</td>\n",
       "      <td>0.0</td>\n",
       "      <td>0.0</td>\n",
       "      <td>0.0</td>\n",
       "      <td>0.0</td>\n",
       "      <td>0.0</td>\n",
       "    </tr>\n",
       "    <tr>\n",
       "      <th>4</th>\n",
       "      <td>88.0</td>\n",
       "      <td>1160.0</td>\n",
       "      <td>9.0</td>\n",
       "      <td>6.0</td>\n",
       "      <td>3134.0</td>\n",
       "      <td>3048.0</td>\n",
       "      <td>1552.0</td>\n",
       "      <td>0.0</td>\n",
       "      <td>348.222230</td>\n",
       "      <td>682.482540</td>\n",
       "      <td>...</td>\n",
       "      <td>7.0</td>\n",
       "      <td>20.0</td>\n",
       "      <td>0.0</td>\n",
       "      <td>0.0</td>\n",
       "      <td>0.0</td>\n",
       "      <td>0.0</td>\n",
       "      <td>0.0</td>\n",
       "      <td>0.0</td>\n",
       "      <td>0.0</td>\n",
       "      <td>0.0</td>\n",
       "    </tr>\n",
       "  </tbody>\n",
       "</table>\n",
       "<p>5 rows × 70 columns</p>\n",
       "</div>"
      ],
      "text/plain": [
       "   DestinationPort  FlowDuration  TotalFwdPackets  TotalBackwardPackets  \\\n",
       "0          49188.0           4.0              2.0                   0.0   \n",
       "1          49486.0           3.0              2.0                   0.0   \n",
       "2             88.0         609.0              7.0                   4.0   \n",
       "3             88.0         879.0              9.0                   4.0   \n",
       "4             88.0        1160.0              9.0                   6.0   \n",
       "\n",
       "   TotalLengthofFwdPackets  TotalLengthofBwdPackets  FwdPacketLengthMax  \\\n",
       "0                     12.0                      0.0                 6.0   \n",
       "1                     12.0                      0.0                 6.0   \n",
       "2                    484.0                    414.0               233.0   \n",
       "3                    656.0                   3064.0               313.0   \n",
       "4                   3134.0                   3048.0              1552.0   \n",
       "\n",
       "   FwdPacketLengthMin  FwdPacketLengthMean  FwdPacketLengthStd  ...  \\\n",
       "0                 6.0             6.000000            0.000000  ...   \n",
       "1                 6.0             6.000000            0.000000  ...   \n",
       "2                 0.0            69.142860          111.967896  ...   \n",
       "3                 0.0            72.888885          136.153810  ...   \n",
       "4                 0.0           348.222230          682.482540  ...   \n",
       "\n",
       "   act_data_pkt_fwd  min_seg_size_forward  ActiveMean  ActiveStd  ActiveMax  \\\n",
       "0               1.0                  20.0         0.0        0.0        0.0   \n",
       "1               1.0                  20.0         0.0        0.0        0.0   \n",
       "2               5.0                  20.0         0.0        0.0        0.0   \n",
       "3               7.0                  20.0         0.0        0.0        0.0   \n",
       "4               7.0                  20.0         0.0        0.0        0.0   \n",
       "\n",
       "   ActiveMin  IdleMean  IdleStd  IdleMax  IdleMin  \n",
       "0        0.0       0.0      0.0      0.0      0.0  \n",
       "1        0.0       0.0      0.0      0.0      0.0  \n",
       "2        0.0       0.0      0.0      0.0      0.0  \n",
       "3        0.0       0.0      0.0      0.0      0.0  \n",
       "4        0.0       0.0      0.0      0.0      0.0  \n",
       "\n",
       "[5 rows x 70 columns]"
      ]
     },
     "execution_count": 5,
     "metadata": {},
     "output_type": "execute_result"
    }
   ],
   "source": [
    "features = dataset.loc[:, dataset.columns != 'Label'].astype('float64')\n",
    "labels = dataset['Label']\n",
    "features.head()"
   ]
  },
  {
   "cell_type": "code",
   "execution_count": 6,
   "id": "e988449f",
   "metadata": {
    "execution": {
     "iopub.execute_input": "2022-05-31T17:04:01.339899Z",
     "iopub.status.busy": "2022-05-31T17:04:01.339200Z",
     "iopub.status.idle": "2022-05-31T17:04:04.418041Z",
     "shell.execute_reply": "2022-05-31T17:04:04.417094Z"
    },
    "executionInfo": {
     "elapsed": 3121,
     "status": "ok",
     "timestamp": 1653675253476,
     "user": {
      "displayName": "daud ahmed",
      "userId": "17443567617331579901"
     },
     "user_tz": 240
    },
    "id": "dIh_6GjWPGKj",
    "papermill": {
     "duration": 3.086763,
     "end_time": "2022-05-31T17:04:04.420410",
     "exception": false,
     "start_time": "2022-05-31T17:04:01.333647",
     "status": "completed"
    },
    "tags": []
   },
   "outputs": [],
   "source": [
    "from sklearn.model_selection import train_test_split\n",
    "features_train, features_test, labels_train, labels_test = train_test_split(features, labels, test_size=.3, random_state=42)"
   ]
  },
  {
   "cell_type": "markdown",
   "id": "0edf14d1",
   "metadata": {
    "id": "dzRaZezJQ1jZ",
    "papermill": {
     "duration": 0.005012,
     "end_time": "2022-05-31T17:04:04.433110",
     "exception": false,
     "start_time": "2022-05-31T17:04:04.428098",
     "status": "completed"
    },
    "tags": []
   },
   "source": [
    "## Standardization"
   ]
  },
  {
   "cell_type": "code",
   "execution_count": 7,
   "id": "c0966039",
   "metadata": {
    "execution": {
     "iopub.execute_input": "2022-05-31T17:04:04.445987Z",
     "iopub.status.busy": "2022-05-31T17:04:04.445323Z",
     "iopub.status.idle": "2022-05-31T17:04:06.773408Z",
     "shell.execute_reply": "2022-05-31T17:04:06.771554Z"
    },
    "executionInfo": {
     "elapsed": 3670,
     "status": "ok",
     "timestamp": 1653675257137,
     "user": {
      "displayName": "daud ahmed",
      "userId": "17443567617331579901"
     },
     "user_tz": 240
    },
    "id": "agARJePMPL3R",
    "papermill": {
     "duration": 2.342083,
     "end_time": "2022-05-31T17:04:06.780804",
     "exception": false,
     "start_time": "2022-05-31T17:04:04.438721",
     "status": "completed"
    },
    "tags": []
   },
   "outputs": [],
   "source": [
    "from sklearn.preprocessing import StandardScaler\n",
    "scaler = StandardScaler()\n",
    "features_train_scaled = scaler.fit_transform(features_train)\n",
    "features_test_scaled = scaler.transform(features_test)"
   ]
  },
  {
   "cell_type": "markdown",
   "id": "3bde2906",
   "metadata": {
    "id": "3FP9ewLCSKVd",
    "papermill": {
     "duration": 0.004807,
     "end_time": "2022-05-31T17:04:06.793497",
     "exception": false,
     "start_time": "2022-05-31T17:04:06.788690",
     "status": "completed"
    },
    "tags": []
   },
   "source": [
    "## LASSO Feature Selection"
   ]
  },
  {
   "cell_type": "code",
   "execution_count": 8,
   "id": "0c8dd8df",
   "metadata": {
    "execution": {
     "iopub.execute_input": "2022-05-31T17:04:06.805334Z",
     "iopub.status.busy": "2022-05-31T17:04:06.804430Z",
     "iopub.status.idle": "2022-05-31T17:04:06.952575Z",
     "shell.execute_reply": "2022-05-31T17:04:06.951080Z"
    },
    "executionInfo": {
     "elapsed": 11,
     "status": "ok",
     "timestamp": 1653675257138,
     "user": {
      "displayName": "daud ahmed",
      "userId": "17443567617331579901"
     },
     "user_tz": 240
    },
    "id": "5WtKvqjxSRHT",
    "papermill": {
     "duration": 0.158257,
     "end_time": "2022-05-31T17:04:06.956745",
     "exception": false,
     "start_time": "2022-05-31T17:04:06.798488",
     "status": "completed"
    },
    "tags": []
   },
   "outputs": [],
   "source": [
    "from sklearn.linear_model import Lasso, LogisticRegression\n",
    "from sklearn.feature_selection import SelectFromModel\n",
    "from sklearn.svm import LinearSVC"
   ]
  },
  {
   "cell_type": "code",
   "execution_count": 9,
   "id": "0e0f3461",
   "metadata": {
    "execution": {
     "iopub.execute_input": "2022-05-31T17:04:06.972616Z",
     "iopub.status.busy": "2022-05-31T17:04:06.971735Z",
     "iopub.status.idle": "2022-06-01T02:17:32.956019Z",
     "shell.execute_reply": "2022-06-01T02:17:32.954368Z"
    },
    "id": "i0sWhYvmQ7Ro",
    "papermill": {
     "duration": 33206.000817,
     "end_time": "2022-06-01T02:17:32.963518",
     "exception": false,
     "start_time": "2022-05-31T17:04:06.962701",
     "status": "completed"
    },
    "tags": []
   },
   "outputs": [
    {
     "name": "stderr",
     "output_type": "stream",
     "text": [
      "/opt/conda/lib/python3.7/site-packages/sklearn/svm/_base.py:1208: ConvergenceWarning: Liblinear failed to converge, increase the number of iterations.\n",
      "  ConvergenceWarning,\n"
     ]
    }
   ],
   "source": [
    "lsvc = LinearSVC(C=0.1, penalty=\"l1\",max_iter=4000, dual=False).fit(features_train_scaled, labels_train)"
   ]
  },
  {
   "cell_type": "code",
   "execution_count": 10,
   "id": "800b4914",
   "metadata": {
    "execution": {
     "iopub.execute_input": "2022-06-01T02:17:32.977567Z",
     "iopub.status.busy": "2022-06-01T02:17:32.976956Z",
     "iopub.status.idle": "2022-06-01T02:17:32.985020Z",
     "shell.execute_reply": "2022-06-01T02:17:32.983944Z"
    },
    "papermill": {
     "duration": 0.019084,
     "end_time": "2022-06-01T02:17:32.987351",
     "exception": false,
     "start_time": "2022-06-01T02:17:32.968267",
     "status": "completed"
    },
    "tags": []
   },
   "outputs": [],
   "source": [
    "sel_ = SelectFromModel(lsvc, prefit=True)"
   ]
  },
  {
   "cell_type": "code",
   "execution_count": 11,
   "id": "0556dbf8",
   "metadata": {
    "execution": {
     "iopub.execute_input": "2022-06-01T02:17:32.998788Z",
     "iopub.status.busy": "2022-06-01T02:17:32.998377Z",
     "iopub.status.idle": "2022-06-01T02:17:33.009913Z",
     "shell.execute_reply": "2022-06-01T02:17:33.008977Z"
    },
    "id": "IKjn50oYR8qM",
    "papermill": {
     "duration": 0.019551,
     "end_time": "2022-06-01T02:17:33.011782",
     "exception": false,
     "start_time": "2022-06-01T02:17:32.992231",
     "status": "completed"
    },
    "tags": []
   },
   "outputs": [
    {
     "data": {
      "text/plain": [
       "array([ True,  True,  True,  True,  True,  True,  True,  True,  True,\n",
       "        True,  True,  True,  True,  True,  True,  True,  True,  True,\n",
       "        True,  True,  True,  True,  True,  True,  True,  True,  True,\n",
       "        True,  True,  True,  True,  True, False, False,  True,  True,\n",
       "        True,  True,  True,  True,  True,  True,  True,  True,  True,\n",
       "        True,  True,  True,  True,  True,  True,  True,  True, False,\n",
       "        True,  True,  True,  True,  True,  True,  True,  True,  True,\n",
       "        True,  True,  True,  True,  True,  True,  True])"
      ]
     },
     "execution_count": 11,
     "metadata": {},
     "output_type": "execute_result"
    }
   ],
   "source": [
    "sel_.get_support()"
   ]
  },
  {
   "cell_type": "code",
   "execution_count": 12,
   "id": "af9d27d7",
   "metadata": {
    "execution": {
     "iopub.execute_input": "2022-06-01T02:17:33.023253Z",
     "iopub.status.busy": "2022-06-01T02:17:33.022832Z",
     "iopub.status.idle": "2022-06-01T02:17:33.038462Z",
     "shell.execute_reply": "2022-06-01T02:17:33.036734Z"
    },
    "id": "XR3KCALeUTgt",
    "papermill": {
     "duration": 0.023856,
     "end_time": "2022-06-01T02:17:33.040581",
     "exception": false,
     "start_time": "2022-06-01T02:17:33.016725",
     "status": "completed"
    },
    "tags": []
   },
   "outputs": [
    {
     "name": "stdout",
     "output_type": "stream",
     "text": [
      "features_train.columns\n",
      "Index(['DestinationPort', 'FlowDuration', 'TotalFwdPackets',\n",
      "       'TotalBackwardPackets', 'TotalLengthofFwdPackets',\n",
      "       'TotalLengthofBwdPackets', 'FwdPacketLengthMax', 'FwdPacketLengthMin',\n",
      "       'FwdPacketLengthMean', 'FwdPacketLengthStd', 'BwdPacketLengthMax',\n",
      "       'BwdPacketLengthMin', 'BwdPacketLengthMean', 'BwdPacketLengthStd',\n",
      "       'FlowBytess', 'FlowPacketss', 'FlowIATMean', 'FlowIATStd', 'FlowIATMax',\n",
      "       'FlowIATMin', 'FwdIATTotal', 'FwdIATMean', 'FwdIATStd', 'FwdIATMax',\n",
      "       'FwdIATMin', 'BwdIATTotal', 'BwdIATMean', 'BwdIATStd', 'BwdIATMax',\n",
      "       'BwdIATMin', 'FwdPSHFlags', 'FwdURGFlags', 'FwdHeaderLength',\n",
      "       'BwdHeaderLength', 'FwdPacketss', 'BwdPacketss', 'MinPacketLength',\n",
      "       'MaxPacketLength', 'PacketLengthMean', 'PacketLengthStd',\n",
      "       'PacketLengthVariance', 'FINFlagCount', 'SYNFlagCount', 'RSTFlagCount',\n",
      "       'PSHFlagCount', 'ACKFlagCount', 'URGFlagCount', 'CWEFlagCount',\n",
      "       'ECEFlagCount', 'DownUpRatio', 'AveragePacketSize', 'AvgFwdSegmentSize',\n",
      "       'AvgBwdSegmentSize', 'FwdHeaderLength.1', 'SubflowFwdPackets',\n",
      "       'SubflowFwdBytes', 'SubflowBwdPackets', 'SubflowBwdBytes',\n",
      "       'Init_Win_bytes_forward', 'Init_Win_bytes_backward', 'act_data_pkt_fwd',\n",
      "       'min_seg_size_forward', 'ActiveMean', 'ActiveStd', 'ActiveMax',\n",
      "       'ActiveMin', 'IdleMean', 'IdleStd', 'IdleMax', 'IdleMin'],\n",
      "      dtype='object')\n",
      "total features: 70\n",
      "selected features: 67\n"
     ]
    }
   ],
   "source": [
    "print('features_train.columns')\n",
    "print(features_train.columns)\n",
    "selected_feat = features_train.columns[(sel_.get_support())]\n",
    "print('total features: {}'.format((features_train.shape[1])))\n",
    "print('selected features: {}'.format(len(selected_feat)))"
   ]
  },
  {
   "cell_type": "code",
   "execution_count": 13,
   "id": "0dca35e4",
   "metadata": {
    "execution": {
     "iopub.execute_input": "2022-06-01T02:17:33.053379Z",
     "iopub.status.busy": "2022-06-01T02:17:33.052453Z",
     "iopub.status.idle": "2022-06-01T02:17:33.058775Z",
     "shell.execute_reply": "2022-06-01T02:17:33.057839Z"
    },
    "id": "BzzSnUPsUp8W",
    "papermill": {
     "duration": 0.014606,
     "end_time": "2022-06-01T02:17:33.060779",
     "exception": false,
     "start_time": "2022-06-01T02:17:33.046173",
     "status": "completed"
    },
    "tags": []
   },
   "outputs": [
    {
     "name": "stdout",
     "output_type": "stream",
     "text": [
      "Folowing are the features which got removed by Lasso L1 regularization\n",
      "['BwdHeaderLength', 'FwdHeaderLength', 'FwdHeaderLength.1']\n"
     ]
    }
   ],
   "source": [
    "removed_feats = list(set(features_train.columns)-set(selected_feat))\n",
    "print(\"Folowing are the features which got removed by Lasso L1 regularization\")\n",
    "print(removed_feats)"
   ]
  }
 ],
 "metadata": {
  "kernelspec": {
   "display_name": "Python 3",
   "language": "python",
   "name": "python3"
  },
  "language_info": {
   "codemirror_mode": {
    "name": "ipython",
    "version": 3
   },
   "file_extension": ".py",
   "mimetype": "text/x-python",
   "name": "python",
   "nbconvert_exporter": "python",
   "pygments_lexer": "ipython3",
   "version": "3.7.12"
  },
  "papermill": {
   "default_parameters": {},
   "duration": 33251.959337,
   "end_time": "2022-06-01T02:17:34.835362",
   "environment_variables": {},
   "exception": null,
   "input_path": "__notebook__.ipynb",
   "output_path": "__notebook__.ipynb",
   "parameters": {},
   "start_time": "2022-05-31T17:03:22.876025",
   "version": "2.3.4"
  }
 },
 "nbformat": 4,
 "nbformat_minor": 5
}
