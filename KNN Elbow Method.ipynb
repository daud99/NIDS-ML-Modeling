{
 "cells": [
  {
   "cell_type": "code",
   "execution_count": 2,
   "id": "241ffc08",
   "metadata": {},
   "outputs": [],
   "source": [
    "import pandas as pd\n",
    "import seaborn as sns\n",
    "import matplotlib.pyplot as plt\n",
    "import numpy as np\n",
    "import math\n",
    "%matplotlib inline"
   ]
  },
  {
   "cell_type": "code",
   "execution_count": 3,
   "id": "b1eb0b61",
   "metadata": {},
   "outputs": [],
   "source": [
    "dataset = pd.read_csv(dataset_path+'processed/cleanDatasetWithEncoding.csv')"
   ]
  },
  {
   "cell_type": "code",
   "execution_count": 4,
   "id": "9985a80e",
   "metadata": {},
   "outputs": [
    {
     "name": "stdout",
     "output_type": "stream",
     "text": [
      "      Label\n",
      "14  1135500\n",
      "3    230122\n",
      "9    158804\n",
      "1    128025\n",
      "2     10293\n",
      "6      7935\n",
      "10     5897\n",
      "5      5796\n",
      "4      5499\n",
      "0      1956\n",
      "11     1507\n",
      "13      652\n",
      "8        36\n",
      "12       21\n",
      "7        11\n"
     ]
    }
   ],
   "source": [
    "# Reducing majority class by half\n",
    "import random\n",
    "random.seed(10)\n",
    "drop_indices = np.random.choice( dataset[dataset['Label']==14].index, 1135521, replace=False)\n",
    "dataset.drop(drop_indices,inplace=True)\n",
    "print(dataset.groupby('Label').agg({'Label':'count'}).rename_axis(None).sort_values('Label', ascending=False))"
   ]
  },
  {
   "cell_type": "code",
   "execution_count": 5,
   "id": "6e3fd02f",
   "metadata": {},
   "outputs": [],
   "source": [
    "del drop_indices"
   ]
  },
  {
   "cell_type": "markdown",
   "id": "897e014e",
   "metadata": {},
   "source": [
    "## Train Test Split"
   ]
  },
  {
   "cell_type": "code",
   "execution_count": 6,
   "id": "83884de1",
   "metadata": {},
   "outputs": [
    {
     "data": {
      "text/html": [
       "<div>\n",
       "<style scoped>\n",
       "    .dataframe tbody tr th:only-of-type {\n",
       "        vertical-align: middle;\n",
       "    }\n",
       "\n",
       "    .dataframe tbody tr th {\n",
       "        vertical-align: top;\n",
       "    }\n",
       "\n",
       "    .dataframe thead th {\n",
       "        text-align: right;\n",
       "    }\n",
       "</style>\n",
       "<table border=\"1\" class=\"dataframe\">\n",
       "  <thead>\n",
       "    <tr style=\"text-align: right;\">\n",
       "      <th></th>\n",
       "      <th>SourcePort</th>\n",
       "      <th>DestinationPort</th>\n",
       "      <th>Protocol</th>\n",
       "      <th>FlowDuration</th>\n",
       "      <th>TotalFwdPackets</th>\n",
       "      <th>TotalBackwardPackets</th>\n",
       "      <th>TotalLengthofFwdPackets</th>\n",
       "      <th>TotalLengthofBwdPackets</th>\n",
       "      <th>FwdPacketLengthMax</th>\n",
       "      <th>FwdPacketLengthMin</th>\n",
       "      <th>...</th>\n",
       "      <th>act_data_pkt_fwd</th>\n",
       "      <th>min_seg_size_forward</th>\n",
       "      <th>ActiveMean</th>\n",
       "      <th>ActiveStd</th>\n",
       "      <th>ActiveMax</th>\n",
       "      <th>ActiveMin</th>\n",
       "      <th>IdleMean</th>\n",
       "      <th>IdleStd</th>\n",
       "      <th>IdleMax</th>\n",
       "      <th>IdleMin</th>\n",
       "    </tr>\n",
       "  </thead>\n",
       "  <tbody>\n",
       "    <tr>\n",
       "      <th>3</th>\n",
       "      <td>49454.0</td>\n",
       "      <td>389.0</td>\n",
       "      <td>6.0</td>\n",
       "      <td>15206.0</td>\n",
       "      <td>17.0</td>\n",
       "      <td>12.0</td>\n",
       "      <td>3452.0</td>\n",
       "      <td>6660.0</td>\n",
       "      <td>1313.0</td>\n",
       "      <td>0.0</td>\n",
       "      <td>...</td>\n",
       "      <td>10.0</td>\n",
       "      <td>32.0</td>\n",
       "      <td>0.0</td>\n",
       "      <td>0.0</td>\n",
       "      <td>0.0</td>\n",
       "      <td>0.0</td>\n",
       "      <td>0.0</td>\n",
       "      <td>0.0</td>\n",
       "      <td>0.0</td>\n",
       "      <td>0.0</td>\n",
       "    </tr>\n",
       "    <tr>\n",
       "      <th>4</th>\n",
       "      <td>46126.0</td>\n",
       "      <td>88.0</td>\n",
       "      <td>6.0</td>\n",
       "      <td>1092.0</td>\n",
       "      <td>9.0</td>\n",
       "      <td>6.0</td>\n",
       "      <td>3150.0</td>\n",
       "      <td>3152.0</td>\n",
       "      <td>1575.0</td>\n",
       "      <td>0.0</td>\n",
       "      <td>...</td>\n",
       "      <td>2.0</td>\n",
       "      <td>32.0</td>\n",
       "      <td>0.0</td>\n",
       "      <td>0.0</td>\n",
       "      <td>0.0</td>\n",
       "      <td>0.0</td>\n",
       "      <td>0.0</td>\n",
       "      <td>0.0</td>\n",
       "      <td>0.0</td>\n",
       "      <td>0.0</td>\n",
       "    </tr>\n",
       "    <tr>\n",
       "      <th>7</th>\n",
       "      <td>37380.0</td>\n",
       "      <td>80.0</td>\n",
       "      <td>6.0</td>\n",
       "      <td>579225.0</td>\n",
       "      <td>132.0</td>\n",
       "      <td>150.0</td>\n",
       "      <td>160.0</td>\n",
       "      <td>320799.0</td>\n",
       "      <td>160.0</td>\n",
       "      <td>0.0</td>\n",
       "      <td>...</td>\n",
       "      <td>1.0</td>\n",
       "      <td>32.0</td>\n",
       "      <td>0.0</td>\n",
       "      <td>0.0</td>\n",
       "      <td>0.0</td>\n",
       "      <td>0.0</td>\n",
       "      <td>0.0</td>\n",
       "      <td>0.0</td>\n",
       "      <td>0.0</td>\n",
       "      <td>0.0</td>\n",
       "    </tr>\n",
       "    <tr>\n",
       "      <th>8</th>\n",
       "      <td>49413.0</td>\n",
       "      <td>49666.0</td>\n",
       "      <td>6.0</td>\n",
       "      <td>3.0</td>\n",
       "      <td>2.0</td>\n",
       "      <td>0.0</td>\n",
       "      <td>12.0</td>\n",
       "      <td>0.0</td>\n",
       "      <td>6.0</td>\n",
       "      <td>6.0</td>\n",
       "      <td>...</td>\n",
       "      <td>1.0</td>\n",
       "      <td>20.0</td>\n",
       "      <td>0.0</td>\n",
       "      <td>0.0</td>\n",
       "      <td>0.0</td>\n",
       "      <td>0.0</td>\n",
       "      <td>0.0</td>\n",
       "      <td>0.0</td>\n",
       "      <td>0.0</td>\n",
       "      <td>0.0</td>\n",
       "    </tr>\n",
       "    <tr>\n",
       "      <th>9</th>\n",
       "      <td>49666.0</td>\n",
       "      <td>49413.0</td>\n",
       "      <td>6.0</td>\n",
       "      <td>4.0</td>\n",
       "      <td>3.0</td>\n",
       "      <td>0.0</td>\n",
       "      <td>18.0</td>\n",
       "      <td>0.0</td>\n",
       "      <td>6.0</td>\n",
       "      <td>6.0</td>\n",
       "      <td>...</td>\n",
       "      <td>2.0</td>\n",
       "      <td>20.0</td>\n",
       "      <td>0.0</td>\n",
       "      <td>0.0</td>\n",
       "      <td>0.0</td>\n",
       "      <td>0.0</td>\n",
       "      <td>0.0</td>\n",
       "      <td>0.0</td>\n",
       "      <td>0.0</td>\n",
       "      <td>0.0</td>\n",
       "    </tr>\n",
       "  </tbody>\n",
       "</table>\n",
       "<p>5 rows × 72 columns</p>\n",
       "</div>"
      ],
      "text/plain": [
       "   SourcePort  DestinationPort  Protocol  FlowDuration  TotalFwdPackets  \\\n",
       "3     49454.0            389.0       6.0       15206.0             17.0   \n",
       "4     46126.0             88.0       6.0        1092.0              9.0   \n",
       "7     37380.0             80.0       6.0      579225.0            132.0   \n",
       "8     49413.0          49666.0       6.0           3.0              2.0   \n",
       "9     49666.0          49413.0       6.0           4.0              3.0   \n",
       "\n",
       "   TotalBackwardPackets  TotalLengthofFwdPackets  TotalLengthofBwdPackets  \\\n",
       "3                  12.0                   3452.0                   6660.0   \n",
       "4                   6.0                   3150.0                   3152.0   \n",
       "7                 150.0                    160.0                 320799.0   \n",
       "8                   0.0                     12.0                      0.0   \n",
       "9                   0.0                     18.0                      0.0   \n",
       "\n",
       "   FwdPacketLengthMax  FwdPacketLengthMin  ...  act_data_pkt_fwd  \\\n",
       "3              1313.0                 0.0  ...              10.0   \n",
       "4              1575.0                 0.0  ...               2.0   \n",
       "7               160.0                 0.0  ...               1.0   \n",
       "8                 6.0                 6.0  ...               1.0   \n",
       "9                 6.0                 6.0  ...               2.0   \n",
       "\n",
       "   min_seg_size_forward  ActiveMean  ActiveStd  ActiveMax  ActiveMin  \\\n",
       "3                  32.0         0.0        0.0        0.0        0.0   \n",
       "4                  32.0         0.0        0.0        0.0        0.0   \n",
       "7                  32.0         0.0        0.0        0.0        0.0   \n",
       "8                  20.0         0.0        0.0        0.0        0.0   \n",
       "9                  20.0         0.0        0.0        0.0        0.0   \n",
       "\n",
       "   IdleMean  IdleStd  IdleMax  IdleMin  \n",
       "3       0.0      0.0      0.0      0.0  \n",
       "4       0.0      0.0      0.0      0.0  \n",
       "7       0.0      0.0      0.0      0.0  \n",
       "8       0.0      0.0      0.0      0.0  \n",
       "9       0.0      0.0      0.0      0.0  \n",
       "\n",
       "[5 rows x 72 columns]"
      ]
     },
     "execution_count": 6,
     "metadata": {},
     "output_type": "execute_result"
    }
   ],
   "source": [
    "features = dataset.loc[:, dataset.columns != 'Label'].astype('float64')\n",
    "labels = dataset['Label']\n",
    "features.head()"
   ]
  },
  {
   "cell_type": "code",
   "execution_count": 7,
   "id": "e3b06480",
   "metadata": {},
   "outputs": [],
   "source": [
    "from sklearn.model_selection import train_test_split"
   ]
  },
  {
   "cell_type": "code",
   "execution_count": 8,
   "id": "16751a52",
   "metadata": {},
   "outputs": [],
   "source": [
    "features_train, features_test, labels_train, labels_test = train_test_split(features, labels, test_size=.2, random_state=1)\n",
    "features_train, features_val, labels_train, labels_val = train_test_split(features_train, labels_train, test_size=.25, random_state=1)"
   ]
  },
  {
   "cell_type": "markdown",
   "id": "5954325f",
   "metadata": {},
   "source": [
    "# SMOTE Up Sampling"
   ]
  },
  {
   "cell_type": "code",
   "execution_count": 9,
   "id": "1a366876",
   "metadata": {},
   "outputs": [
    {
     "name": "stdout",
     "output_type": "stream",
     "text": [
      "{14: 681942, 3: 137615, 9: 95116, 1: 76831, 2: 74346, 6: 72947, 10: 71669, 5: 71634, 4: 71471, 0: 69413, 11: 69110, 13: 68591, 8: 68204, 12: 68195, 7: 68194}\n"
     ]
    }
   ],
   "source": [
    "class_dist = dict(labels_train.value_counts())\n",
    "min = class_dist[7]\n",
    "max_ten_perct = math.floor(class_dist[14]*0.1)\n",
    "min_diff = max_ten_perct - min\n",
    "for key in class_dist:\n",
    "  if class_dist[key] < max_ten_perct:\n",
    "    class_dist[key] = class_dist[key] + min_diff\n",
    "print(class_dist)"
   ]
  },
  {
   "cell_type": "code",
   "execution_count": 10,
   "id": "47147af7",
   "metadata": {},
   "outputs": [],
   "source": [
    "from imblearn.over_sampling import SMOTE\n",
    "\n",
    "# Using strategy\n",
    "'''\n",
    "We are making sure that the minority class is atleast 10% of the majority class.\n",
    "So,\n",
    "1. We calculate the 10% of the majority class.\n",
    "2. Then, find how less is the minority class from the 10% of the majority class\n",
    "3. Then, added the value from above step to all the classes which are less than 10 of the majority class\n",
    "\n",
    "Here, as our dataset is quite large we tried to reduce the majority class by 50% and then do the above steps.\n",
    "'''\n",
    "\n",
    "smote = SMOTE(random_state=42, sampling_strategy=class_dist,n_jobs=-1)\n",
    "features_train, labels_train = smote.fit_resample(features_train, labels_train)"
   ]
  },
  {
   "cell_type": "markdown",
   "id": "345fd044",
   "metadata": {},
   "source": [
    "## Standardization"
   ]
  },
  {
   "cell_type": "code",
   "execution_count": 11,
   "id": "b51cd0e2",
   "metadata": {},
   "outputs": [],
   "source": [
    "from sklearn.preprocessing import StandardScaler\n",
    "scaler = StandardScaler()\n",
    "features_train_scaled = scaler.fit_transform(features_train)\n",
    "features_val_scaled =  scaler.fit_transform(features_val)\n",
    "features_test_scaled = scaler.fit_transform(features_test)"
   ]
  },
  {
   "cell_type": "markdown",
   "id": "9d0a1019",
   "metadata": {},
   "source": [
    "## Choosing a K value"
   ]
  },
  {
   "cell_type": "code",
   "execution_count": 12,
   "id": "9cac8eca",
   "metadata": {},
   "outputs": [],
   "source": [
    "from sklearn.neighbors import KNeighborsClassifier"
   ]
  },
  {
   "cell_type": "code",
   "execution_count": 13,
   "id": "fd9e9101",
   "metadata": {},
   "outputs": [],
   "source": [
    "error_rate = []\n",
    "\n",
    "# Will take some time\n",
    "for i in range(1,40):\n",
    "    knn = KNeighborsClassifier(n_neighbors=i)\n",
    "    knn.fit(features_train_scaled, labels_train)\n",
    "    pred_i = knn.predict(features_val_scaled)\n",
    "    error_rate.append(np.mean(pred_i != labels_va))"
   ]
  },
  {
   "cell_type": "code",
   "execution_count": 14,
   "id": "7af74100",
   "metadata": {},
   "outputs": [
    {
     "data": {
      "text/plain": [
       "Text(0, 0.5, 'Error Rate')"
      ]
     },
     "execution_count": 14,
     "metadata": {},
     "output_type": "execute_result"
    },
    {
     "data": {
      "image/png": "[encoded data removed]",
      "text/plain": [
       "<Figure size 720x432 with 1 Axes>"
      ]
     },
     "metadata": {
      "needs_background": "light"
     },
     "output_type": "display_data"
    }
   ],
   "source": [
    "plt.figure(figsize=(10,6))\n",
    "plt.plot(range(1,40),error_rate,color='blue', linestyle='dashed', marker='o',\n",
    "         markerfacecolor='red', markersize=10)\n",
    "plt.title('Error Rate vs. K Value')\n",
    "plt.xlabel('K')\n",
    "plt.ylabel('Error Rate')"
   ]
  },
  {
   "cell_type": "code",
   "execution_count": 15,
   "id": "0204546c",
   "metadata": {},
   "outputs": [
    {
     "name": "stdout",
     "output_type": "stream",
     "text": [
      "[0.08767150003989232, 0.06685952879782277, 0.06804447845962454, 0.06187446625552952, 0.062353174098950685, 0.06099683520925738, 0.06102047510275966, 0.06149918294618083, 0.061584877560126594, 0.06259548300734905, 0.06236794903238961, 0.06428278040607427, 0.0640404714976759, 0.06509540174521514, 0.06483831790337785, 0.06539090041399363, 0.06524906105297995, 0.06549136996137832, 0.06536135054711578, 0.06547955001462719, 0.06536135054711578, 0.06543522521431042, 0.06527270094648224, 0.06537317049386693, 0.06514268153221969, 0.0651042667052785, 0.06477921816962215, 0.06443052974046352, 0.06444234968721466, 0.06419413080544072, 0.06409661624474382, 0.06388976717659887, 0.0637656577357119, 0.06371837794870734, 0.0636090434412593, 0.06360608845457151, 0.06337855447961208, 0.06323080514522282, 0.06310078573096028]\n"
     ]
    }
   ],
   "source": [
    "print(error_rate)"
   ]
  },
  {
   "cell_type": "code",
   "execution_count": null,
   "id": "fd16b8cb",
   "metadata": {},
   "outputs": [],
   "source": []
  },
  {
   "cell_type": "code",
   "execution_count": null,
   "id": "c2b05dab",
   "metadata": {},
   "outputs": [],
   "source": []
  }
 ],
 "metadata": {
  "kernelspec": {
   "display_name": "Python 3 (ipykernel)",
   "language": "python",
   "name": "python3"
  },
  "language_info": {
   "codemirror_mode": {
    "name": "ipython",
    "version": 3
   },
   "file_extension": ".py",
   "mimetype": "text/x-python",
   "name": "python",
   "nbconvert_exporter": "python",
   "pygments_lexer": "ipython3",
   "version": "3.7.3"
  }
 },
 "nbformat": 4,
 "nbformat_minor": 5
}
