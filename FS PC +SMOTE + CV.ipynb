{
 "cells": [
  {
   "cell_type": "markdown",
   "metadata": {},
   "source": [
    "# Involving libraries\n"
   ]
  },
  {
   "cell_type": "code",
   "execution_count": 1,
   "metadata": {
    "_kg_hide-input": false
   },
   "outputs": [],
   "source": [
    "from sklearn.preprocessing import StandardScaler, LabelEncoder\n",
    "import matplotlib.pyplot as plt # plotting\n",
    "import seaborn as sns # plotting\n",
    "import numpy as np # linear algebra\n",
    "import os # accessing directory structure\n",
    "import pandas as pd # data processing, CSV file I/O (e.g. pd.read_csv)\n",
    "import time\n",
    "from sklearn.naive_bayes import BernoulliNB \n",
    "from sklearn import tree\n",
    "from sklearn import model_selection\n",
    "from sklearn.neighbors import KNeighborsClassifier\n",
    "from sklearn.linear_model import LogisticRegression\n",
    "from sklearn import metrics"
   ]
  },
  {
   "cell_type": "markdown",
   "metadata": {},
   "source": [
    "# Data set -INFO\n"
   ]
  },
  {
   "cell_type": "code",
   "execution_count": 2,
   "metadata": {
    "_kg_hide-input": false
   },
   "outputs": [],
   "source": [
    "dataset_path = '/home/bot/myprojectdir/dataset/'"
   ]
  },
  {
   "cell_type": "code",
   "execution_count": 3,
   "metadata": {},
   "outputs": [],
   "source": [
    "df = pd.read_csv(dataset_path+'processed/cleanDatasetWithEncoding.csv')"
   ]
  },
  {
   "cell_type": "code",
   "execution_count": 4,
   "metadata": {},
   "outputs": [
    {
     "data": {
      "text/plain": [
       "Index(['DestinationPort', 'FlowDuration', 'TotalFwdPackets',\n",
       "       'TotalBackwardPackets', 'TotalLengthofFwdPackets',\n",
       "       'TotalLengthofBwdPackets', 'FwdPacketLengthMax', 'FwdPacketLengthMin',\n",
       "       'FwdPacketLengthMean', 'FwdPacketLengthStd', 'BwdPacketLengthMax',\n",
       "       'BwdPacketLengthMin', 'BwdPacketLengthMean', 'BwdPacketLengthStd',\n",
       "       'FlowBytess', 'FlowPacketss', 'FlowIATMean', 'FlowIATStd', 'FlowIATMax',\n",
       "       'FlowIATMin', 'FwdIATTotal', 'FwdIATMean', 'FwdIATStd', 'FwdIATMax',\n",
       "       'FwdIATMin', 'BwdIATTotal', 'BwdIATMean', 'BwdIATStd', 'BwdIATMax',\n",
       "       'BwdIATMin', 'FwdPSHFlags', 'FwdURGFlags', 'FwdHeaderLength',\n",
       "       'BwdHeaderLength', 'FwdPacketss', 'BwdPacketss', 'MinPacketLength',\n",
       "       'MaxPacketLength', 'PacketLengthMean', 'PacketLengthStd',\n",
       "       'PacketLengthVariance', 'FINFlagCount', 'SYNFlagCount', 'RSTFlagCount',\n",
       "       'PSHFlagCount', 'ACKFlagCount', 'URGFlagCount', 'CWEFlagCount',\n",
       "       'ECEFlagCount', 'DownUpRatio', 'AveragePacketSize', 'AvgFwdSegmentSize',\n",
       "       'AvgBwdSegmentSize', 'FwdHeaderLength.1', 'SubflowFwdPackets',\n",
       "       'SubflowFwdBytes', 'SubflowBwdPackets', 'SubflowBwdBytes',\n",
       "       'Init_Win_bytes_forward', 'Init_Win_bytes_backward', 'act_data_pkt_fwd',\n",
       "       'min_seg_size_forward', 'ActiveMean', 'ActiveStd', 'ActiveMax',\n",
       "       'ActiveMin', 'IdleMean', 'IdleStd', 'IdleMax', 'IdleMin', 'Label'],\n",
       "      dtype='object')"
      ]
     },
     "execution_count": 4,
     "metadata": {},
     "output_type": "execute_result"
    }
   ],
   "source": [
    "df.columns"
   ]
  },
  {
   "cell_type": "code",
   "execution_count": 5,
   "metadata": {},
   "outputs": [
    {
     "name": "stdout",
     "output_type": "stream",
     "text": [
      "<class 'pandas.core.frame.DataFrame'>\n",
      "RangeIndex: 2520911 entries, 0 to 2520910\n",
      "Data columns (total 71 columns):\n",
      " #   Column                   Dtype  \n",
      "---  ------                   -----  \n",
      " 0   DestinationPort          float64\n",
      " 1   FlowDuration             float64\n",
      " 2   TotalFwdPackets          float64\n",
      " 3   TotalBackwardPackets     float64\n",
      " 4   TotalLengthofFwdPackets  float64\n",
      " 5   TotalLengthofBwdPackets  float64\n",
      " 6   FwdPacketLengthMax       float64\n",
      " 7   FwdPacketLengthMin       float64\n",
      " 8   FwdPacketLengthMean      float64\n",
      " 9   FwdPacketLengthStd       float64\n",
      " 10  BwdPacketLengthMax       float64\n",
      " 11  BwdPacketLengthMin       float64\n",
      " 12  BwdPacketLengthMean      float64\n",
      " 13  BwdPacketLengthStd       float64\n",
      " 14  FlowBytess               float64\n",
      " 15  FlowPacketss             float64\n",
      " 16  FlowIATMean              float64\n",
      " 17  FlowIATStd               float64\n",
      " 18  FlowIATMax               float64\n",
      " 19  FlowIATMin               float64\n",
      " 20  FwdIATTotal              float64\n",
      " 21  FwdIATMean               float64\n",
      " 22  FwdIATStd                float64\n",
      " 23  FwdIATMax                float64\n",
      " 24  FwdIATMin                float64\n",
      " 25  BwdIATTotal              float64\n",
      " 26  BwdIATMean               float64\n",
      " 27  BwdIATStd                float64\n",
      " 28  BwdIATMax                float64\n",
      " 29  BwdIATMin                float64\n",
      " 30  FwdPSHFlags              float64\n",
      " 31  FwdURGFlags              float64\n",
      " 32  FwdHeaderLength          float64\n",
      " 33  BwdHeaderLength          float64\n",
      " 34  FwdPacketss              float64\n",
      " 35  BwdPacketss              float64\n",
      " 36  MinPacketLength          float64\n",
      " 37  MaxPacketLength          float64\n",
      " 38  PacketLengthMean         float64\n",
      " 39  PacketLengthStd          float64\n",
      " 40  PacketLengthVariance     float64\n",
      " 41  FINFlagCount             float64\n",
      " 42  SYNFlagCount             float64\n",
      " 43  RSTFlagCount             float64\n",
      " 44  PSHFlagCount             float64\n",
      " 45  ACKFlagCount             float64\n",
      " 46  URGFlagCount             float64\n",
      " 47  CWEFlagCount             float64\n",
      " 48  ECEFlagCount             float64\n",
      " 49  DownUpRatio              float64\n",
      " 50  AveragePacketSize        float64\n",
      " 51  AvgFwdSegmentSize        float64\n",
      " 52  AvgBwdSegmentSize        float64\n",
      " 53  FwdHeaderLength.1        float64\n",
      " 54  SubflowFwdPackets        float64\n",
      " 55  SubflowFwdBytes          float64\n",
      " 56  SubflowBwdPackets        float64\n",
      " 57  SubflowBwdBytes          float64\n",
      " 58  Init_Win_bytes_forward   float64\n",
      " 59  Init_Win_bytes_backward  float64\n",
      " 60  act_data_pkt_fwd         float64\n",
      " 61  min_seg_size_forward     float64\n",
      " 62  ActiveMean               float64\n",
      " 63  ActiveStd                float64\n",
      " 64  ActiveMax                float64\n",
      " 65  ActiveMin                float64\n",
      " 66  IdleMean                 float64\n",
      " 67  IdleStd                  float64\n",
      " 68  IdleMax                  float64\n",
      " 69  IdleMin                  float64\n",
      " 70  Label                    int64  \n",
      "dtypes: float64(70), int64(1)\n",
      "memory usage: 1.3 GB\n"
     ]
    }
   ],
   "source": [
    "df.info()"
   ]
  },
  {
   "cell_type": "markdown",
   "metadata": {},
   "source": [
    "# Data classification\n",
    "Preparation of training data"
   ]
  },
  {
   "cell_type": "code",
   "execution_count": 6,
   "metadata": {},
   "outputs": [
    {
     "data": {
      "text/plain": [
       "14    2095170\n",
       "3      172846\n",
       "1      128014\n",
       "9       90694\n",
       "2       10286\n",
       "6        5931\n",
       "5        5385\n",
       "4        5228\n",
       "10       3219\n",
       "0        1948\n",
       "11       1470\n",
       "13        652\n",
       "8          36\n",
       "12         21\n",
       "7          11\n",
       "Name: Label, dtype: int64"
      ]
     },
     "execution_count": 6,
     "metadata": {},
     "output_type": "execute_result"
    }
   ],
   "source": [
    "df['Label'].value_counts()"
   ]
  },
  {
   "cell_type": "code",
   "execution_count": 7,
   "metadata": {},
   "outputs": [
    {
     "name": "stdout",
     "output_type": "stream",
     "text": [
      "<class 'pandas.core.frame.DataFrame'>\n",
      "RangeIndex: 2520911 entries, 0 to 2520910\n",
      "Data columns (total 71 columns):\n",
      " #   Column                   Dtype  \n",
      "---  ------                   -----  \n",
      " 0   DestinationPort          float32\n",
      " 1   FlowDuration             float32\n",
      " 2   TotalFwdPackets          float32\n",
      " 3   TotalBackwardPackets     float32\n",
      " 4   TotalLengthofFwdPackets  float32\n",
      " 5   TotalLengthofBwdPackets  float32\n",
      " 6   FwdPacketLengthMax       float32\n",
      " 7   FwdPacketLengthMin       float32\n",
      " 8   FwdPacketLengthMean      float32\n",
      " 9   FwdPacketLengthStd       float32\n",
      " 10  BwdPacketLengthMax       float32\n",
      " 11  BwdPacketLengthMin       float32\n",
      " 12  BwdPacketLengthMean      float32\n",
      " 13  BwdPacketLengthStd       float32\n",
      " 14  FlowBytess               float32\n",
      " 15  FlowPacketss             float32\n",
      " 16  FlowIATMean              float32\n",
      " 17  FlowIATStd               float32\n",
      " 18  FlowIATMax               float32\n",
      " 19  FlowIATMin               float32\n",
      " 20  FwdIATTotal              float32\n",
      " 21  FwdIATMean               float32\n",
      " 22  FwdIATStd                float32\n",
      " 23  FwdIATMax                float32\n",
      " 24  FwdIATMin                float32\n",
      " 25  BwdIATTotal              float32\n",
      " 26  BwdIATMean               float32\n",
      " 27  BwdIATStd                float32\n",
      " 28  BwdIATMax                float32\n",
      " 29  BwdIATMin                float32\n",
      " 30  FwdPSHFlags              float32\n",
      " 31  FwdURGFlags              float32\n",
      " 32  FwdHeaderLength          float32\n",
      " 33  BwdHeaderLength          float32\n",
      " 34  FwdPacketss              float32\n",
      " 35  BwdPacketss              float32\n",
      " 36  MinPacketLength          float32\n",
      " 37  MaxPacketLength          float32\n",
      " 38  PacketLengthMean         float32\n",
      " 39  PacketLengthStd          float32\n",
      " 40  PacketLengthVariance     float32\n",
      " 41  FINFlagCount             float32\n",
      " 42  SYNFlagCount             float32\n",
      " 43  RSTFlagCount             float32\n",
      " 44  PSHFlagCount             float32\n",
      " 45  ACKFlagCount             float32\n",
      " 46  URGFlagCount             float32\n",
      " 47  CWEFlagCount             float32\n",
      " 48  ECEFlagCount             float32\n",
      " 49  DownUpRatio              float32\n",
      " 50  AveragePacketSize        float32\n",
      " 51  AvgFwdSegmentSize        float32\n",
      " 52  AvgBwdSegmentSize        float32\n",
      " 53  FwdHeaderLength.1        float32\n",
      " 54  SubflowFwdPackets        float32\n",
      " 55  SubflowFwdBytes          float32\n",
      " 56  SubflowBwdPackets        float32\n",
      " 57  SubflowBwdBytes          float32\n",
      " 58  Init_Win_bytes_forward   float32\n",
      " 59  Init_Win_bytes_backward  float32\n",
      " 60  act_data_pkt_fwd         float32\n",
      " 61  min_seg_size_forward     float32\n",
      " 62  ActiveMean               float32\n",
      " 63  ActiveStd                float32\n",
      " 64  ActiveMax                float32\n",
      " 65  ActiveMin                float32\n",
      " 66  IdleMean                 float32\n",
      " 67  IdleStd                  float32\n",
      " 68  IdleMax                  float32\n",
      " 69  IdleMin                  float32\n",
      " 70  Label                    int64  \n",
      "dtypes: float32(70), int64(1)\n",
      "memory usage: 692.4 MB\n"
     ]
    }
   ],
   "source": [
    "old_memory_usage = df.memory_usage().sum()\n",
    "#change the variable types for low memory usage\n",
    "#int64 to int32,,, float64 to float32\n",
    "integer = []\n",
    "f = []\n",
    "for i in df.columns[:-1]:\n",
    "    if df[i].dtype == \"int64\": integer.append(i)\n",
    "    else : f.append(i)\n",
    "\n",
    "df[integer] = df[integer].astype(\"int32\")\n",
    "df[f] = df[f].astype(\"float32\")\n",
    "df.info()"
   ]
  },
  {
   "cell_type": "code",
   "execution_count": 8,
   "metadata": {},
   "outputs": [
    {
     "name": "stdout",
     "output_type": "stream",
     "text": [
      "%49.295770241184364 lower memory usage\n"
     ]
    }
   ],
   "source": [
    "new_memory_usage = df.memory_usage().sum()\n",
    "old_vs_new = (old_memory_usage - new_memory_usage) / old_memory_usage * 100\n",
    "print(f\"%{old_vs_new} lower memory usage\")"
   ]
  },
  {
   "cell_type": "code",
   "execution_count": 9,
   "metadata": {},
   "outputs": [],
   "source": [
    "# drop one variable features \n",
    "one_variable_list = []\n",
    "for i in df.columns:\n",
    "    if df[i].value_counts().nunique() < 2:\n",
    "        one_variable_list.append(i)\n",
    "df.drop(one_variable_list,axis=1,inplace=True)\n",
    "df.columns =  df.columns.str.strip()"
   ]
  },
  {
   "cell_type": "code",
   "execution_count": 10,
   "metadata": {},
   "outputs": [],
   "source": [
    "# drop nan and infinite rows\n",
    "df = df[~df.isin([np.nan, np.inf, -np.inf]).any(1)]"
   ]
  },
  {
   "cell_type": "code",
   "execution_count": 11,
   "metadata": {},
   "outputs": [],
   "source": [
    "# drop duplicate rows\n",
    "df =  df.drop_duplicates(keep=\"first\")\n",
    "df.reset_index(drop=True,inplace=True)"
   ]
  },
  {
   "cell_type": "code",
   "execution_count": 12,
   "metadata": {},
   "outputs": [
    {
     "name": "stderr",
     "output_type": "stream",
     "text": [
      "/home/bot/myprojectdir/myprojectenv/lib/python3.7/site-packages/ipykernel_launcher.py:6: DeprecationWarning: `np.bool` is a deprecated alias for the builtin `bool`. To silence this warning, use `bool` by itself. Doing this will not modify any behavior and is safe. If you specifically wanted the numpy scalar type, use `np.bool_` here.\n",
      "Deprecated in NumPy 1.20; for more details and guidance: https://numpy.org/devdocs/release/1.20.0-notes.html#deprecations\n",
      "  \n"
     ]
    },
    {
     "data": {
      "text/plain": [
       "(2497928, 48)"
      ]
     },
     "execution_count": 12,
     "metadata": {},
     "output_type": "execute_result"
    }
   ],
   "source": [
    "#feature reduction \n",
    "#dropping very high correlated features \n",
    "corr_matrix = df.corr().abs()\n",
    "\n",
    "# Select upper triangle of correlation matrix\n",
    "upper = corr_matrix.where(np.triu(np.ones(corr_matrix.shape), k=1).astype(np.bool))\n",
    "\n",
    "# Find features with correlation greater than 0.95\n",
    "to_drop = [column for column in upper.columns if any(upper[column] > 0.95)]\n",
    "\n",
    "# Drop features \n",
    "df =  df.drop(to_drop, axis=1)\n",
    "df.shape"
   ]
  },
  {
   "cell_type": "code",
   "execution_count": 13,
   "metadata": {},
   "outputs": [],
   "source": [
    "x = np.array(df.drop([\"Label\"],axis=1))\n",
    "y = np.array(df[\"Label\"])"
   ]
  },
  {
   "cell_type": "markdown",
   "metadata": {},
   "source": [
    "# Model training"
   ]
  },
  {
   "cell_type": "code",
   "execution_count": 14,
   "metadata": {},
   "outputs": [],
   "source": [
    "#Fitting Models\n",
    "from sklearn import tree\n",
    "from sklearn.model_selection import cross_val_score\n",
    "from sklearn.tree import DecisionTreeClassifier\n",
    "\n",
    "DTC_Classifier = tree.DecisionTreeClassifier(criterion='entropy', splitter='best', random_state=42,max_depth=15)"
   ]
  },
  {
   "cell_type": "code",
   "execution_count": 15,
   "metadata": {},
   "outputs": [],
   "source": [
    "def get_score(model, X_train, X_test, y_train, y_test):\n",
    "    model.fit(X_train, y_train)\n",
    "    return model.score(X_test, y_test)"
   ]
  },
  {
   "cell_type": "code",
   "execution_count": 21,
   "metadata": {},
   "outputs": [
    {
     "name": "stderr",
     "output_type": "stream",
     "text": [
      "/home/bot/myprojectdir/myprojectenv/lib/python3.7/site-packages/sklearn/metrics/_classification.py:1318: UndefinedMetricWarning: Recall is ill-defined and being set to 0.0 in labels with no true samples. Use `zero_division` parameter to control this behavior.\n",
      "  _warn_prf(average, modifier, msg_start, len(result))\n",
      "/home/bot/myprojectdir/myprojectenv/lib/python3.7/site-packages/sklearn/metrics/_classification.py:1318: UndefinedMetricWarning: Recall is ill-defined and being set to 0.0 in labels with no true samples. Use `zero_division` parameter to control this behavior.\n",
      "  _warn_prf(average, modifier, msg_start, len(result))\n",
      "/home/bot/myprojectdir/myprojectenv/lib/python3.7/site-packages/sklearn/metrics/_classification.py:1318: UndefinedMetricWarning: Recall is ill-defined and being set to 0.0 in labels with no true samples. Use `zero_division` parameter to control this behavior.\n",
      "  _warn_prf(average, modifier, msg_start, len(result))\n",
      "/home/bot/myprojectdir/myprojectenv/lib/python3.7/site-packages/sklearn/metrics/_classification.py:1318: UndefinedMetricWarning: Recall is ill-defined and being set to 0.0 in labels with no true samples. Use `zero_division` parameter to control this behavior.\n",
      "  _warn_prf(average, modifier, msg_start, len(result))\n"
     ]
    }
   ],
   "source": [
    "from sklearn.metrics import make_scorer, accuracy_score, precision_score, recall_score, f1_score\n",
    "from sklearn.metrics import classification_report,confusion_matrix,precision_recall_fscore_support,balanced_accuracy_score, f1_score, precision_score, recall_score\n",
    "from sklearn.model_selection import StratifiedKFold\n",
    "folds = StratifiedKFold(n_splits=10)\n",
    "\n",
    "scores = []\n",
    "f1 = []\n",
    "precision = []\n",
    "recall = []\n",
    "\n",
    "for train_index, test_index in folds.split(x,y):\n",
    "    X_train, X_test, y_train, y_test = x[train_index], x[test_index], \\\n",
    "                                       y[train_index], y[test_index]\n",
    "    DTC_Classifier.fit(X_train, y_train)\n",
    "    predictions = DTC_Classifier.predict(X_test)\n",
    "    f1.append(f1_score(predictions, y_test, average='weighted'))\n",
    "    precision.append(precision_score(predictions, y_test, average='weighted'))\n",
    "    recall.append(recall_score(predictions, y_test, average='weighted'))"
   ]
  },
  {
   "cell_type": "code",
   "execution_count": 22,
   "metadata": {},
   "outputs": [
    {
     "data": {
      "text/plain": [
       "[]"
      ]
     },
     "execution_count": 22,
     "metadata": {},
     "output_type": "execute_result"
    }
   ],
   "source": [
    "scores"
   ]
  },
  {
   "cell_type": "code",
   "execution_count": 23,
   "metadata": {},
   "outputs": [
    {
     "data": {
      "text/plain": [
       "[0.9959569731741943,\n",
       " 0.9990158039120844,\n",
       " 0.9942649455656892,\n",
       " 0.999152442149916,\n",
       " 0.9960137536744577,\n",
       " 0.9980249222947251,\n",
       " 0.9995433705757383,\n",
       " 0.9985445737423977,\n",
       " 0.9992141259835632,\n",
       " 0.9398437672278583]"
      ]
     },
     "execution_count": 23,
     "metadata": {},
     "output_type": "execute_result"
    }
   ],
   "source": [
    "f1"
   ]
  },
  {
   "cell_type": "code",
   "execution_count": 24,
   "metadata": {},
   "outputs": [
    {
     "data": {
      "text/plain": [
       "[0.996479866611449,\n",
       " 0.9991623586032322,\n",
       " 0.9950377211878634,\n",
       " 0.9992948819868055,\n",
       " 0.996650495476963,\n",
       " 0.9985599807153992,\n",
       " 0.9996900438945938,\n",
       " 0.9988439799460549,\n",
       " 0.9997071308639519,\n",
       " 0.9494380487659684]"
      ]
     },
     "execution_count": 24,
     "metadata": {},
     "output_type": "execute_result"
    }
   ],
   "source": [
    "precision"
   ]
  },
  {
   "cell_type": "code",
   "execution_count": 25,
   "metadata": {},
   "outputs": [
    {
     "data": {
      "text/plain": [
       "[0.9957284631675027,\n",
       " 0.9989191050189556,\n",
       " 0.9941831836760838,\n",
       " 0.9990632243497616,\n",
       " 0.9966532288735073,\n",
       " 0.9977461337987854,\n",
       " 0.9994515458799886,\n",
       " 0.9983986741021565,\n",
       " 0.9988190174224956,\n",
       " 0.9456908147578785]"
      ]
     },
     "execution_count": 25,
     "metadata": {},
     "output_type": "execute_result"
    }
   ],
   "source": [
    "recall"
   ]
  },
  {
   "cell_type": "code",
   "execution_count": 26,
   "metadata": {},
   "outputs": [
    {
     "data": {
      "text/plain": [
       "[0.9957284631675027,\n",
       " 0.9989191050189556,\n",
       " 0.9941831836760838,\n",
       " 0.9990632243497616,\n",
       " 0.9966532288735073,\n",
       " 0.9977461337987854,\n",
       " 0.9994515458799886,\n",
       " 0.9983986741021565,\n",
       " 0.9988190174224956,\n",
       " 0.9456908147578785]"
      ]
     },
     "execution_count": 26,
     "metadata": {},
     "output_type": "execute_result"
    }
   ],
   "source": [
    "recall"
   ]
  },
  {
   "cell_type": "code",
   "execution_count": 27,
   "metadata": {},
   "outputs": [
    {
     "data": {
      "text/plain": [
       "0.9924653391047116"
      ]
     },
     "execution_count": 27,
     "metadata": {},
     "output_type": "execute_result"
    }
   ],
   "source": [
    "np.mean(recall)"
   ]
  },
  {
   "cell_type": "code",
   "execution_count": 28,
   "metadata": {},
   "outputs": [
    {
     "data": {
      "text/plain": [
       "0.9932864508052281"
      ]
     },
     "execution_count": 28,
     "metadata": {},
     "output_type": "execute_result"
    }
   ],
   "source": [
    "np.mean(precision)"
   ]
  },
  {
   "cell_type": "code",
   "execution_count": 29,
   "metadata": {},
   "outputs": [
    {
     "data": {
      "text/plain": [
       "0.9919574678300623"
      ]
     },
     "execution_count": 29,
     "metadata": {},
     "output_type": "execute_result"
    }
   ],
   "source": [
    "np.mean(f1)"
   ]
  },
  {
   "cell_type": "code",
   "execution_count": null,
   "metadata": {},
   "outputs": [],
   "source": []
  }
 ],
 "metadata": {
  "kernelspec": {
   "display_name": "Python 3 (ipykernel)",
   "language": "python",
   "name": "python3"
  },
  "language_info": {
   "codemirror_mode": {
    "name": "ipython",
    "version": 3
   },
   "file_extension": ".py",
   "mimetype": "text/x-python",
   "name": "python",
   "nbconvert_exporter": "python",
   "pygments_lexer": "ipython3",
   "version": "3.7.3"
  }
 },
 "nbformat": 4,
 "nbformat_minor": 4
}
