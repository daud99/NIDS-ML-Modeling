{
  "cells": [
    {
      "cell_type": "code",
      "execution_count": null,
      "id": "8337831f",
      "metadata": {
        "colab": {
          "base_uri": "https://localhost:8080/"
        },
        "id": "8337831f",
        "outputId": "e550364f-4f38-4d94-fbfc-9ec54a899d66"
      },
      "outputs": [
        {
          "name": "stdout",
          "output_type": "stream",
          "text": [
            "Mounted at /content/gdrive\n"
          ]
        }
      ],
      "source": [
        "from google.colab import drive\n",
        "drive.mount('/content/gdrive')"
      ]
    },
    {
      "cell_type": "code",
      "execution_count": null,
      "id": "7c44d73e",
      "metadata": {
        "id": "7c44d73e"
      },
      "outputs": [],
      "source": [
        "dataset_path = '/content/gdrive/My Drive/project/dataset/'"
      ]
    },
    {
      "cell_type": "markdown",
      "id": "38e7b62a",
      "metadata": {
        "id": "38e7b62a"
      },
      "source": [
        "# Actual Code Starting Point"
      ]
    },
    {
      "cell_type": "markdown",
      "id": "752b78b4",
      "metadata": {
        "id": "752b78b4"
      },
      "source": [
        "## Library Imports"
      ]
    },
    {
      "cell_type": "code",
      "execution_count": null,
      "id": "9c90fd6f",
      "metadata": {
        "id": "9c90fd6f"
      },
      "outputs": [],
      "source": [
        "import os\n",
        "import pandas as pd\n",
        "import numpy as np"
      ]
    },
    {
      "cell_type": "markdown",
      "id": "e666ef9e",
      "metadata": {
        "id": "e666ef9e"
      },
      "source": [
        "## Creating a single Data Frame using all Dataset files"
      ]
    },
    {
      "cell_type": "code",
      "execution_count": null,
      "id": "858edb9f",
      "metadata": {
        "colab": {
          "base_uri": "https://localhost:8080/"
        },
        "id": "858edb9f",
        "outputId": "f3ef2017-3c6e-4d98-faf2-fbb0f50afde9"
      },
      "outputs": [
        {
          "name": "stderr",
          "output_type": "stream",
          "text": [
            "/usr/local/lib/python3.7/dist-packages/ipykernel_launcher.py:2: DtypeWarning: Columns (0,1,3,6,84) have mixed types.Specify dtype option on import or set low_memory=False.\n",
            "  \n"
          ]
        }
      ],
      "source": [
        "all_files = [dataset_path+'original/'+each_file for each_file in os.listdir(dataset_path+'original/') if each_file != '.DS_Store']\n",
        "all_dfs = [pd.read_csv(each_file,encoding='cp1252') for each_file in all_files]"
      ]
    },
    {
      "cell_type": "code",
      "execution_count": null,
      "id": "18f33d00",
      "metadata": {
        "id": "18f33d00"
      },
      "outputs": [],
      "source": [
        "total_columns = all_dfs[0].columns\n",
        "all_same_column = np.array([])\n",
        "for (index,df) in enumerate(all_dfs):\n",
        "  all_same_column = df.columns == total_columns\n",
        "  if False in all_same_column:\n",
        "    print(f\"This {all_files[index]} doesn't have the same columns\")"
      ]
    },
    {
      "cell_type": "code",
      "execution_count": null,
      "id": "f9e88845",
      "metadata": {
        "colab": {
          "base_uri": "https://localhost:8080/"
        },
        "id": "f9e88845",
        "outputId": "adb99658-4173-4d03-af41-858df197c4c8"
      },
      "outputs": [
        {
          "name": "stdout",
          "output_type": "stream",
          "text": [
            "All files have same columns\n",
            "Total Data Shape :(2830434, 85)\n"
          ]
        }
      ],
      "source": [
        "if np.all(all_same_column):\n",
        "  print(\"All files have same columns\")\n",
        "  merge_df  = pd.concat([each for each in all_dfs]).drop_duplicates(keep=False)\n",
        "  merge_df.reset_index(drop=True, inplace = True)\n",
        "  print(\"Total Data Shape :\" +str(merge_df.shape))\n",
        "else:\n",
        "  print(\"All files have not same columns\")"
      ]
    },
    {
      "cell_type": "code",
      "execution_count": null,
      "id": "4f487ac5",
      "metadata": {
        "colab": {
          "base_uri": "https://localhost:8080/"
        },
        "id": "4f487ac5",
        "outputId": "662886ce-4d45-482b-d83f-944d3643299e"
      },
      "outputs": [
        {
          "name": "stdout",
          "output_type": "stream",
          "text": [
            "<class 'pandas.core.frame.DataFrame'>\n",
            "RangeIndex: 2830434 entries, 0 to 2830433\n",
            "Data columns (total 85 columns):\n",
            " #   Column                        Dtype  \n",
            "---  ------                        -----  \n",
            " 0   Flow ID                       object \n",
            " 1    Source IP                    object \n",
            " 2    Source Port                  float64\n",
            " 3    Destination IP               object \n",
            " 4    Destination Port             float64\n",
            " 5    Protocol                     float64\n",
            " 6    Timestamp                    object \n",
            " 7    Flow Duration                float64\n",
            " 8    Total Fwd Packets            float64\n",
            " 9    Total Backward Packets       float64\n",
            " 10  Total Length of Fwd Packets   float64\n",
            " 11   Total Length of Bwd Packets  float64\n",
            " 12   Fwd Packet Length Max        float64\n",
            " 13   Fwd Packet Length Min        float64\n",
            " 14   Fwd Packet Length Mean       float64\n",
            " 15   Fwd Packet Length Std        float64\n",
            " 16  Bwd Packet Length Max         float64\n",
            " 17   Bwd Packet Length Min        float64\n",
            " 18   Bwd Packet Length Mean       float64\n",
            " 19   Bwd Packet Length Std        float64\n",
            " 20  Flow Bytes/s                  float64\n",
            " 21   Flow Packets/s               float64\n",
            " 22   Flow IAT Mean                float64\n",
            " 23   Flow IAT Std                 float64\n",
            " 24   Flow IAT Max                 float64\n",
            " 25   Flow IAT Min                 float64\n",
            " 26  Fwd IAT Total                 float64\n",
            " 27   Fwd IAT Mean                 float64\n",
            " 28   Fwd IAT Std                  float64\n",
            " 29   Fwd IAT Max                  float64\n",
            " 30   Fwd IAT Min                  float64\n",
            " 31  Bwd IAT Total                 float64\n",
            " 32   Bwd IAT Mean                 float64\n",
            " 33   Bwd IAT Std                  float64\n",
            " 34   Bwd IAT Max                  float64\n",
            " 35   Bwd IAT Min                  float64\n",
            " 36  Fwd PSH Flags                 float64\n",
            " 37   Bwd PSH Flags                float64\n",
            " 38   Fwd URG Flags                float64\n",
            " 39   Bwd URG Flags                float64\n",
            " 40   Fwd Header Length            float64\n",
            " 41   Bwd Header Length            float64\n",
            " 42  Fwd Packets/s                 float64\n",
            " 43   Bwd Packets/s                float64\n",
            " 44   Min Packet Length            float64\n",
            " 45   Max Packet Length            float64\n",
            " 46   Packet Length Mean           float64\n",
            " 47   Packet Length Std            float64\n",
            " 48   Packet Length Variance       float64\n",
            " 49  FIN Flag Count                float64\n",
            " 50   SYN Flag Count               float64\n",
            " 51   RST Flag Count               float64\n",
            " 52   PSH Flag Count               float64\n",
            " 53   ACK Flag Count               float64\n",
            " 54   URG Flag Count               float64\n",
            " 55   CWE Flag Count               float64\n",
            " 56   ECE Flag Count               float64\n",
            " 57   Down/Up Ratio                float64\n",
            " 58   Average Packet Size          float64\n",
            " 59   Avg Fwd Segment Size         float64\n",
            " 60   Avg Bwd Segment Size         float64\n",
            " 61   Fwd Header Length.1          float64\n",
            " 62  Fwd Avg Bytes/Bulk            float64\n",
            " 63   Fwd Avg Packets/Bulk         float64\n",
            " 64   Fwd Avg Bulk Rate            float64\n",
            " 65   Bwd Avg Bytes/Bulk           float64\n",
            " 66   Bwd Avg Packets/Bulk         float64\n",
            " 67  Bwd Avg Bulk Rate             float64\n",
            " 68  Subflow Fwd Packets           float64\n",
            " 69   Subflow Fwd Bytes            float64\n",
            " 70   Subflow Bwd Packets          float64\n",
            " 71   Subflow Bwd Bytes            float64\n",
            " 72  Init_Win_bytes_forward        float64\n",
            " 73   Init_Win_bytes_backward      float64\n",
            " 74   act_data_pkt_fwd             float64\n",
            " 75   min_seg_size_forward         float64\n",
            " 76  Active Mean                   float64\n",
            " 77   Active Std                   float64\n",
            " 78   Active Max                   float64\n",
            " 79   Active Min                   float64\n",
            " 80  Idle Mean                     float64\n",
            " 81   Idle Std                     float64\n",
            " 82   Idle Max                     float64\n",
            " 83   Idle Min                     float64\n",
            " 84   Label                        object \n",
            "dtypes: float64(80), object(5)\n",
            "memory usage: 1.8+ GB\n"
          ]
        }
      ],
      "source": [
        "merge_df.info()"
      ]
    },
    {
      "cell_type": "code",
      "execution_count": null,
      "id": "1de4e6ff",
      "metadata": {
        "colab": {
          "base_uri": "https://localhost:8080/",
          "height": 421
        },
        "id": "1de4e6ff",
        "outputId": "35d761a9-750a-4c44-ce24-ed0ef9bf06ce"
      },
      "outputs": [
        {
          "data": {
            "text/html": [
              "\n",
              "  <div id=\"df-84053bf2-e232-42a7-8eff-abb9d81aa53f\">\n",
              "    <div class=\"colab-df-container\">\n",
              "      <div>\n",
              "<style scoped>\n",
              "    .dataframe tbody tr th:only-of-type {\n",
              "        vertical-align: middle;\n",
              "    }\n",
              "\n",
              "    .dataframe tbody tr th {\n",
              "        vertical-align: top;\n",
              "    }\n",
              "\n",
              "    .dataframe thead th {\n",
              "        text-align: right;\n",
              "    }\n",
              "</style>\n",
              "<table border=\"1\" class=\"dataframe\">\n",
              "  <thead>\n",
              "    <tr style=\"text-align: right;\">\n",
              "      <th></th>\n",
              "      <th>Flow ID</th>\n",
              "      <th>Source IP</th>\n",
              "      <th>Source Port</th>\n",
              "      <th>Destination IP</th>\n",
              "      <th>Destination Port</th>\n",
              "      <th>Protocol</th>\n",
              "      <th>Timestamp</th>\n",
              "      <th>Flow Duration</th>\n",
              "      <th>Total Fwd Packets</th>\n",
              "      <th>Total Backward Packets</th>\n",
              "      <th>...</th>\n",
              "      <th>min_seg_size_forward</th>\n",
              "      <th>Active Mean</th>\n",
              "      <th>Active Std</th>\n",
              "      <th>Active Max</th>\n",
              "      <th>Active Min</th>\n",
              "      <th>Idle Mean</th>\n",
              "      <th>Idle Std</th>\n",
              "      <th>Idle Max</th>\n",
              "      <th>Idle Min</th>\n",
              "      <th>Label</th>\n",
              "    </tr>\n",
              "  </thead>\n",
              "  <tbody>\n",
              "    <tr>\n",
              "      <th>0</th>\n",
              "      <td>192.168.10.5-8.254.250.126-49188-80-6</td>\n",
              "      <td>8.254.250.126</td>\n",
              "      <td>80.0</td>\n",
              "      <td>192.168.10.5</td>\n",
              "      <td>49188.0</td>\n",
              "      <td>6.0</td>\n",
              "      <td>03/07/2017 08:55:58</td>\n",
              "      <td>4.0</td>\n",
              "      <td>2.0</td>\n",
              "      <td>0.0</td>\n",
              "      <td>...</td>\n",
              "      <td>20.0</td>\n",
              "      <td>0.0</td>\n",
              "      <td>0.0</td>\n",
              "      <td>0.0</td>\n",
              "      <td>0.0</td>\n",
              "      <td>0.0</td>\n",
              "      <td>0.0</td>\n",
              "      <td>0.0</td>\n",
              "      <td>0.0</td>\n",
              "      <td>BENIGN</td>\n",
              "    </tr>\n",
              "    <tr>\n",
              "      <th>1</th>\n",
              "      <td>192.168.10.14-8.253.185.121-49486-80-6</td>\n",
              "      <td>8.253.185.121</td>\n",
              "      <td>80.0</td>\n",
              "      <td>192.168.10.14</td>\n",
              "      <td>49486.0</td>\n",
              "      <td>6.0</td>\n",
              "      <td>03/07/2017 08:56:22</td>\n",
              "      <td>3.0</td>\n",
              "      <td>2.0</td>\n",
              "      <td>0.0</td>\n",
              "      <td>...</td>\n",
              "      <td>20.0</td>\n",
              "      <td>0.0</td>\n",
              "      <td>0.0</td>\n",
              "      <td>0.0</td>\n",
              "      <td>0.0</td>\n",
              "      <td>0.0</td>\n",
              "      <td>0.0</td>\n",
              "      <td>0.0</td>\n",
              "      <td>0.0</td>\n",
              "      <td>BENIGN</td>\n",
              "    </tr>\n",
              "    <tr>\n",
              "      <th>2</th>\n",
              "      <td>192.168.10.3-192.168.10.9-88-1031-6</td>\n",
              "      <td>192.168.10.9</td>\n",
              "      <td>1031.0</td>\n",
              "      <td>192.168.10.3</td>\n",
              "      <td>88.0</td>\n",
              "      <td>6.0</td>\n",
              "      <td>03/07/2017 08:56:38</td>\n",
              "      <td>609.0</td>\n",
              "      <td>7.0</td>\n",
              "      <td>4.0</td>\n",
              "      <td>...</td>\n",
              "      <td>20.0</td>\n",
              "      <td>0.0</td>\n",
              "      <td>0.0</td>\n",
              "      <td>0.0</td>\n",
              "      <td>0.0</td>\n",
              "      <td>0.0</td>\n",
              "      <td>0.0</td>\n",
              "      <td>0.0</td>\n",
              "      <td>0.0</td>\n",
              "      <td>BENIGN</td>\n",
              "    </tr>\n",
              "    <tr>\n",
              "      <th>3</th>\n",
              "      <td>192.168.10.3-192.168.10.9-88-1032-6</td>\n",
              "      <td>192.168.10.9</td>\n",
              "      <td>1032.0</td>\n",
              "      <td>192.168.10.3</td>\n",
              "      <td>88.0</td>\n",
              "      <td>6.0</td>\n",
              "      <td>03/07/2017 08:56:38</td>\n",
              "      <td>879.0</td>\n",
              "      <td>9.0</td>\n",
              "      <td>4.0</td>\n",
              "      <td>...</td>\n",
              "      <td>20.0</td>\n",
              "      <td>0.0</td>\n",
              "      <td>0.0</td>\n",
              "      <td>0.0</td>\n",
              "      <td>0.0</td>\n",
              "      <td>0.0</td>\n",
              "      <td>0.0</td>\n",
              "      <td>0.0</td>\n",
              "      <td>0.0</td>\n",
              "      <td>BENIGN</td>\n",
              "    </tr>\n",
              "    <tr>\n",
              "      <th>4</th>\n",
              "      <td>192.168.10.3-192.168.10.9-88-1033-6</td>\n",
              "      <td>192.168.10.9</td>\n",
              "      <td>1033.0</td>\n",
              "      <td>192.168.10.3</td>\n",
              "      <td>88.0</td>\n",
              "      <td>6.0</td>\n",
              "      <td>03/07/2017 08:56:38</td>\n",
              "      <td>1160.0</td>\n",
              "      <td>9.0</td>\n",
              "      <td>6.0</td>\n",
              "      <td>...</td>\n",
              "      <td>20.0</td>\n",
              "      <td>0.0</td>\n",
              "      <td>0.0</td>\n",
              "      <td>0.0</td>\n",
              "      <td>0.0</td>\n",
              "      <td>0.0</td>\n",
              "      <td>0.0</td>\n",
              "      <td>0.0</td>\n",
              "      <td>0.0</td>\n",
              "      <td>BENIGN</td>\n",
              "    </tr>\n",
              "  </tbody>\n",
              "</table>\n",
              "<p>5 rows × 85 columns</p>\n",
              "</div>\n",
              "      <button class=\"colab-df-convert\" onclick=\"convertToInteractive('df-84053bf2-e232-42a7-8eff-abb9d81aa53f')\"\n",
              "              title=\"Convert this dataframe to an interactive table.\"\n",
              "              style=\"display:none;\">\n",
              "        \n",
              "  <svg xmlns=\"http://www.w3.org/2000/svg\" height=\"24px\"viewBox=\"0 0 24 24\"\n",
              "       width=\"24px\">\n",
              "    <path d=\"M0 0h24v24H0V0z\" fill=\"none\"/>\n",
              "    <path d=\"M18.56 5.44l.94 2.06.94-2.06 2.06-.94-2.06-.94-.94-2.06-.94 2.06-2.06.94zm-11 1L8.5 8.5l.94-2.06 2.06-.94-2.06-.94L8.5 2.5l-.94 2.06-2.06.94zm10 10l.94 2.06.94-2.06 2.06-.94-2.06-.94-.94-2.06-.94 2.06-2.06.94z\"/><path d=\"M17.41 7.96l-1.37-1.37c-.4-.4-.92-.59-1.43-.59-.52 0-1.04.2-1.43.59L10.3 9.45l-7.72 7.72c-.78.78-.78 2.05 0 2.83L4 21.41c.39.39.9.59 1.41.59.51 0 1.02-.2 1.41-.59l7.78-7.78 2.81-2.81c.8-.78.8-2.07 0-2.86zM5.41 20L4 18.59l7.72-7.72 1.47 1.35L5.41 20z\"/>\n",
              "  </svg>\n",
              "      </button>\n",
              "      \n",
              "  <style>\n",
              "    .colab-df-container {\n",
              "      display:flex;\n",
              "      flex-wrap:wrap;\n",
              "      gap: 12px;\n",
              "    }\n",
              "\n",
              "    .colab-df-convert {\n",
              "      background-color: #E8F0FE;\n",
              "      border: none;\n",
              "      border-radius: 50%;\n",
              "      cursor: pointer;\n",
              "      display: none;\n",
              "      fill: #1967D2;\n",
              "      height: 32px;\n",
              "      padding: 0 0 0 0;\n",
              "      width: 32px;\n",
              "    }\n",
              "\n",
              "    .colab-df-convert:hover {\n",
              "      background-color: #E2EBFA;\n",
              "      box-shadow: 0px 1px 2px rgba(60, 64, 67, 0.3), 0px 1px 3px 1px rgba(60, 64, 67, 0.15);\n",
              "      fill: #174EA6;\n",
              "    }\n",
              "\n",
              "    [theme=dark] .colab-df-convert {\n",
              "      background-color: #3B4455;\n",
              "      fill: #D2E3FC;\n",
              "    }\n",
              "\n",
              "    [theme=dark] .colab-df-convert:hover {\n",
              "      background-color: #434B5C;\n",
              "      box-shadow: 0px 1px 3px 1px rgba(0, 0, 0, 0.15);\n",
              "      filter: drop-shadow(0px 1px 2px rgba(0, 0, 0, 0.3));\n",
              "      fill: #FFFFFF;\n",
              "    }\n",
              "  </style>\n",
              "\n",
              "      <script>\n",
              "        const buttonEl =\n",
              "          document.querySelector('#df-84053bf2-e232-42a7-8eff-abb9d81aa53f button.colab-df-convert');\n",
              "        buttonEl.style.display =\n",
              "          google.colab.kernel.accessAllowed ? 'block' : 'none';\n",
              "\n",
              "        async function convertToInteractive(key) {\n",
              "          const element = document.querySelector('#df-84053bf2-e232-42a7-8eff-abb9d81aa53f');\n",
              "          const dataTable =\n",
              "            await google.colab.kernel.invokeFunction('convertToInteractive',\n",
              "                                                     [key], {});\n",
              "          if (!dataTable) return;\n",
              "\n",
              "          const docLinkHtml = 'Like what you see? Visit the ' +\n",
              "            '<a target=\"_blank\" href=https://colab.research.google.com/notebooks/data_table.ipynb>data table notebook</a>'\n",
              "            + ' to learn more about interactive tables.';\n",
              "          element.innerHTML = '';\n",
              "          dataTable['output_type'] = 'display_data';\n",
              "          await google.colab.output.renderOutput(dataTable, element);\n",
              "          const docLink = document.createElement('div');\n",
              "          docLink.innerHTML = docLinkHtml;\n",
              "          element.appendChild(docLink);\n",
              "        }\n",
              "      </script>\n",
              "    </div>\n",
              "  </div>\n",
              "  "
            ],
            "text/plain": [
              "                                  Flow ID      Source IP   Source Port  \\\n",
              "0   192.168.10.5-8.254.250.126-49188-80-6  8.254.250.126          80.0   \n",
              "1  192.168.10.14-8.253.185.121-49486-80-6  8.253.185.121          80.0   \n",
              "2     192.168.10.3-192.168.10.9-88-1031-6   192.168.10.9        1031.0   \n",
              "3     192.168.10.3-192.168.10.9-88-1032-6   192.168.10.9        1032.0   \n",
              "4     192.168.10.3-192.168.10.9-88-1033-6   192.168.10.9        1033.0   \n",
              "\n",
              "   Destination IP   Destination Port   Protocol            Timestamp  \\\n",
              "0    192.168.10.5            49188.0        6.0  03/07/2017 08:55:58   \n",
              "1   192.168.10.14            49486.0        6.0  03/07/2017 08:56:22   \n",
              "2    192.168.10.3               88.0        6.0  03/07/2017 08:56:38   \n",
              "3    192.168.10.3               88.0        6.0  03/07/2017 08:56:38   \n",
              "4    192.168.10.3               88.0        6.0  03/07/2017 08:56:38   \n",
              "\n",
              "    Flow Duration   Total Fwd Packets   Total Backward Packets  ...  \\\n",
              "0             4.0                 2.0                      0.0  ...   \n",
              "1             3.0                 2.0                      0.0  ...   \n",
              "2           609.0                 7.0                      4.0  ...   \n",
              "3           879.0                 9.0                      4.0  ...   \n",
              "4          1160.0                 9.0                      6.0  ...   \n",
              "\n",
              "    min_seg_size_forward  Active Mean   Active Std   Active Max   Active Min  \\\n",
              "0                   20.0          0.0          0.0          0.0          0.0   \n",
              "1                   20.0          0.0          0.0          0.0          0.0   \n",
              "2                   20.0          0.0          0.0          0.0          0.0   \n",
              "3                   20.0          0.0          0.0          0.0          0.0   \n",
              "4                   20.0          0.0          0.0          0.0          0.0   \n",
              "\n",
              "   Idle Mean   Idle Std   Idle Max   Idle Min   Label  \n",
              "0        0.0        0.0        0.0        0.0  BENIGN  \n",
              "1        0.0        0.0        0.0        0.0  BENIGN  \n",
              "2        0.0        0.0        0.0        0.0  BENIGN  \n",
              "3        0.0        0.0        0.0        0.0  BENIGN  \n",
              "4        0.0        0.0        0.0        0.0  BENIGN  \n",
              "\n",
              "[5 rows x 85 columns]"
            ]
          },
          "execution_count": 9,
          "metadata": {},
          "output_type": "execute_result"
        }
      ],
      "source": [
        "merge_df.head()"
      ]
    },
    {
      "cell_type": "markdown",
      "id": "dc6592b3",
      "metadata": {
        "id": "dc6592b3"
      },
      "source": [
        "## Initial Cleaning"
      ]
    },
    {
      "cell_type": "markdown",
      "id": "d42e9b1b",
      "metadata": {
        "id": "d42e9b1b"
      },
      "source": [
        "## Deleting columns with ZERO std."
      ]
    },
    {
      "cell_type": "code",
      "execution_count": null,
      "id": "3cf1bb78",
      "metadata": {
        "colab": {
          "base_uri": "https://localhost:8080/"
        },
        "id": "3cf1bb78",
        "outputId": "371bf3ed-158d-4237-9495-7db5a4d7183c"
      },
      "outputs": [
        {
          "data": {
            "text/plain": [
              "Index([' Bwd PSH Flags', ' Bwd URG Flags', 'Fwd Avg Bytes/Bulk',\n",
              "       ' Fwd Avg Packets/Bulk', ' Fwd Avg Bulk Rate', ' Bwd Avg Bytes/Bulk',\n",
              "       ' Bwd Avg Packets/Bulk', 'Bwd Avg Bulk Rate'],\n",
              "      dtype='object')"
            ]
          },
          "execution_count": 10,
          "metadata": {},
          "output_type": "execute_result"
        }
      ],
      "source": [
        "# Deleting columns with ZERO std.\n",
        "stats = merge_df.describe()\n",
        "std = stats.loc['std']\n",
        "features_no_variance = std[std == 0.0].index\n",
        "features_no_variance"
      ]
    },
    {
      "cell_type": "code",
      "execution_count": null,
      "id": "8ff87095",
      "metadata": {
        "colab": {
          "base_uri": "https://localhost:8080/"
        },
        "id": "8ff87095",
        "outputId": "d53a793e-8aa5-4f6f-b1c3-d654fe8a48ab"
      },
      "outputs": [
        {
          "name": "stdout",
          "output_type": "stream",
          "text": [
            "Datashape before removal\n",
            "(2830434, 85)\n",
            "Datashape after removal\n",
            "(2830434, 77)\n"
          ]
        }
      ],
      "source": [
        "print(\"Datashape before removal\")\n",
        "print(merge_df.shape)\n",
        "merge_df = merge_df.drop(columns=features_no_variance)\n",
        "print(\"Datashape after removal\")\n",
        "print(merge_df.shape)"
      ]
    },
    {
      "cell_type": "markdown",
      "id": "e28bc310",
      "metadata": {
        "id": "e28bc310"
      },
      "source": [
        "## Removing non-numeric columns"
      ]
    },
    {
      "cell_type": "code",
      "execution_count": null,
      "id": "05bfc17d",
      "metadata": {
        "colab": {
          "base_uri": "https://localhost:8080/"
        },
        "id": "05bfc17d",
        "outputId": "94465a60-36ba-4159-fa81-d6d0588ab12b"
      },
      "outputs": [
        {
          "name": "stdout",
          "output_type": "stream",
          "text": [
            "['Flow ID', ' Destination IP', ' Source IP', ' Timestamp']\n"
          ]
        }
      ],
      "source": [
        "# Removing non-numeric columns\n",
        "discriptive_stat = merge_df.describe()\n",
        "str_cols = list(set(merge_df.columns)-set(discriptive_stat.columns))\n",
        "str_cols.remove(' Label')\n",
        "print(str_cols)"
      ]
    },
    {
      "cell_type": "code",
      "execution_count": null,
      "id": "f84b0022",
      "metadata": {
        "colab": {
          "base_uri": "https://localhost:8080/"
        },
        "id": "f84b0022",
        "outputId": "16b9636b-ef7a-4f38-9dfd-f1919d6a1597"
      },
      "outputs": [
        {
          "name": "stdout",
          "output_type": "stream",
          "text": [
            "Datashape after removal\n",
            "(2830434, 73)\n"
          ]
        }
      ],
      "source": [
        "merge_df = merge_df.drop(columns=str_cols)\n",
        "print(\"Datashape after removal\")\n",
        "print(merge_df.shape)"
      ]
    },
    {
      "cell_type": "markdown",
      "id": "6bcb1e49",
      "metadata": {
        "id": "6bcb1e49"
      },
      "source": [
        "## Removing unnecessary columns"
      ]
    },
    {
      "cell_type": "code",
      "execution_count": null,
      "id": "4fb22cdf",
      "metadata": {
        "colab": {
          "base_uri": "https://localhost:8080/"
        },
        "id": "4fb22cdf",
        "outputId": "01dc9839-fa18-4cb4-852b-b05ace7df373"
      },
      "outputs": [
        {
          "name": "stdout",
          "output_type": "stream",
          "text": [
            "Datashape after removal\n",
            "(2830434, 71)\n"
          ]
        }
      ],
      "source": [
        "# Removing unnecessary columns\n",
        "del_columns = [' Source Port', ' Protocol']\n",
        "merge_df = merge_df.drop(columns=del_columns)\n",
        "print(\"Datashape after removal\")\n",
        "print(merge_df.shape)"
      ]
    },
    {
      "cell_type": "code",
      "execution_count": null,
      "id": "b2f779cd",
      "metadata": {
        "colab": {
          "base_uri": "https://localhost:8080/",
          "height": 352
        },
        "id": "b2f779cd",
        "outputId": "e9553a87-1d86-4954-f066-70aeb39053a4"
      },
      "outputs": [
        {
          "data": {
            "text/html": [
              "\n",
              "  <div id=\"df-d5fec164-6bd0-4f82-a30b-456de6ecf917\">\n",
              "    <div class=\"colab-df-container\">\n",
              "      <div>\n",
              "<style scoped>\n",
              "    .dataframe tbody tr th:only-of-type {\n",
              "        vertical-align: middle;\n",
              "    }\n",
              "\n",
              "    .dataframe tbody tr th {\n",
              "        vertical-align: top;\n",
              "    }\n",
              "\n",
              "    .dataframe thead th {\n",
              "        text-align: right;\n",
              "    }\n",
              "</style>\n",
              "<table border=\"1\" class=\"dataframe\">\n",
              "  <thead>\n",
              "    <tr style=\"text-align: right;\">\n",
              "      <th></th>\n",
              "      <th>Destination Port</th>\n",
              "      <th>Flow Duration</th>\n",
              "      <th>Total Fwd Packets</th>\n",
              "      <th>Total Backward Packets</th>\n",
              "      <th>Total Length of Fwd Packets</th>\n",
              "      <th>Total Length of Bwd Packets</th>\n",
              "      <th>Fwd Packet Length Max</th>\n",
              "      <th>Fwd Packet Length Min</th>\n",
              "      <th>Fwd Packet Length Mean</th>\n",
              "      <th>Fwd Packet Length Std</th>\n",
              "      <th>...</th>\n",
              "      <th>min_seg_size_forward</th>\n",
              "      <th>Active Mean</th>\n",
              "      <th>Active Std</th>\n",
              "      <th>Active Max</th>\n",
              "      <th>Active Min</th>\n",
              "      <th>Idle Mean</th>\n",
              "      <th>Idle Std</th>\n",
              "      <th>Idle Max</th>\n",
              "      <th>Idle Min</th>\n",
              "      <th>Label</th>\n",
              "    </tr>\n",
              "  </thead>\n",
              "  <tbody>\n",
              "    <tr>\n",
              "      <th>0</th>\n",
              "      <td>49188.0</td>\n",
              "      <td>4.0</td>\n",
              "      <td>2.0</td>\n",
              "      <td>0.0</td>\n",
              "      <td>12.0</td>\n",
              "      <td>0.0</td>\n",
              "      <td>6.0</td>\n",
              "      <td>6.0</td>\n",
              "      <td>6.000000</td>\n",
              "      <td>0.000000</td>\n",
              "      <td>...</td>\n",
              "      <td>20.0</td>\n",
              "      <td>0.0</td>\n",
              "      <td>0.0</td>\n",
              "      <td>0.0</td>\n",
              "      <td>0.0</td>\n",
              "      <td>0.0</td>\n",
              "      <td>0.0</td>\n",
              "      <td>0.0</td>\n",
              "      <td>0.0</td>\n",
              "      <td>BENIGN</td>\n",
              "    </tr>\n",
              "    <tr>\n",
              "      <th>1</th>\n",
              "      <td>49486.0</td>\n",
              "      <td>3.0</td>\n",
              "      <td>2.0</td>\n",
              "      <td>0.0</td>\n",
              "      <td>12.0</td>\n",
              "      <td>0.0</td>\n",
              "      <td>6.0</td>\n",
              "      <td>6.0</td>\n",
              "      <td>6.000000</td>\n",
              "      <td>0.000000</td>\n",
              "      <td>...</td>\n",
              "      <td>20.0</td>\n",
              "      <td>0.0</td>\n",
              "      <td>0.0</td>\n",
              "      <td>0.0</td>\n",
              "      <td>0.0</td>\n",
              "      <td>0.0</td>\n",
              "      <td>0.0</td>\n",
              "      <td>0.0</td>\n",
              "      <td>0.0</td>\n",
              "      <td>BENIGN</td>\n",
              "    </tr>\n",
              "    <tr>\n",
              "      <th>2</th>\n",
              "      <td>88.0</td>\n",
              "      <td>609.0</td>\n",
              "      <td>7.0</td>\n",
              "      <td>4.0</td>\n",
              "      <td>484.0</td>\n",
              "      <td>414.0</td>\n",
              "      <td>233.0</td>\n",
              "      <td>0.0</td>\n",
              "      <td>69.142857</td>\n",
              "      <td>111.967895</td>\n",
              "      <td>...</td>\n",
              "      <td>20.0</td>\n",
              "      <td>0.0</td>\n",
              "      <td>0.0</td>\n",
              "      <td>0.0</td>\n",
              "      <td>0.0</td>\n",
              "      <td>0.0</td>\n",
              "      <td>0.0</td>\n",
              "      <td>0.0</td>\n",
              "      <td>0.0</td>\n",
              "      <td>BENIGN</td>\n",
              "    </tr>\n",
              "    <tr>\n",
              "      <th>3</th>\n",
              "      <td>88.0</td>\n",
              "      <td>879.0</td>\n",
              "      <td>9.0</td>\n",
              "      <td>4.0</td>\n",
              "      <td>656.0</td>\n",
              "      <td>3064.0</td>\n",
              "      <td>313.0</td>\n",
              "      <td>0.0</td>\n",
              "      <td>72.888889</td>\n",
              "      <td>136.153814</td>\n",
              "      <td>...</td>\n",
              "      <td>20.0</td>\n",
              "      <td>0.0</td>\n",
              "      <td>0.0</td>\n",
              "      <td>0.0</td>\n",
              "      <td>0.0</td>\n",
              "      <td>0.0</td>\n",
              "      <td>0.0</td>\n",
              "      <td>0.0</td>\n",
              "      <td>0.0</td>\n",
              "      <td>BENIGN</td>\n",
              "    </tr>\n",
              "    <tr>\n",
              "      <th>4</th>\n",
              "      <td>88.0</td>\n",
              "      <td>1160.0</td>\n",
              "      <td>9.0</td>\n",
              "      <td>6.0</td>\n",
              "      <td>3134.0</td>\n",
              "      <td>3048.0</td>\n",
              "      <td>1552.0</td>\n",
              "      <td>0.0</td>\n",
              "      <td>348.222222</td>\n",
              "      <td>682.482560</td>\n",
              "      <td>...</td>\n",
              "      <td>20.0</td>\n",
              "      <td>0.0</td>\n",
              "      <td>0.0</td>\n",
              "      <td>0.0</td>\n",
              "      <td>0.0</td>\n",
              "      <td>0.0</td>\n",
              "      <td>0.0</td>\n",
              "      <td>0.0</td>\n",
              "      <td>0.0</td>\n",
              "      <td>BENIGN</td>\n",
              "    </tr>\n",
              "  </tbody>\n",
              "</table>\n",
              "<p>5 rows × 71 columns</p>\n",
              "</div>\n",
              "      <button class=\"colab-df-convert\" onclick=\"convertToInteractive('df-d5fec164-6bd0-4f82-a30b-456de6ecf917')\"\n",
              "              title=\"Convert this dataframe to an interactive table.\"\n",
              "              style=\"display:none;\">\n",
              "        \n",
              "  <svg xmlns=\"http://www.w3.org/2000/svg\" height=\"24px\"viewBox=\"0 0 24 24\"\n",
              "       width=\"24px\">\n",
              "    <path d=\"M0 0h24v24H0V0z\" fill=\"none\"/>\n",
              "    <path d=\"M18.56 5.44l.94 2.06.94-2.06 2.06-.94-2.06-.94-.94-2.06-.94 2.06-2.06.94zm-11 1L8.5 8.5l.94-2.06 2.06-.94-2.06-.94L8.5 2.5l-.94 2.06-2.06.94zm10 10l.94 2.06.94-2.06 2.06-.94-2.06-.94-.94-2.06-.94 2.06-2.06.94z\"/><path d=\"M17.41 7.96l-1.37-1.37c-.4-.4-.92-.59-1.43-.59-.52 0-1.04.2-1.43.59L10.3 9.45l-7.72 7.72c-.78.78-.78 2.05 0 2.83L4 21.41c.39.39.9.59 1.41.59.51 0 1.02-.2 1.41-.59l7.78-7.78 2.81-2.81c.8-.78.8-2.07 0-2.86zM5.41 20L4 18.59l7.72-7.72 1.47 1.35L5.41 20z\"/>\n",
              "  </svg>\n",
              "      </button>\n",
              "      \n",
              "  <style>\n",
              "    .colab-df-container {\n",
              "      display:flex;\n",
              "      flex-wrap:wrap;\n",
              "      gap: 12px;\n",
              "    }\n",
              "\n",
              "    .colab-df-convert {\n",
              "      background-color: #E8F0FE;\n",
              "      border: none;\n",
              "      border-radius: 50%;\n",
              "      cursor: pointer;\n",
              "      display: none;\n",
              "      fill: #1967D2;\n",
              "      height: 32px;\n",
              "      padding: 0 0 0 0;\n",
              "      width: 32px;\n",
              "    }\n",
              "\n",
              "    .colab-df-convert:hover {\n",
              "      background-color: #E2EBFA;\n",
              "      box-shadow: 0px 1px 2px rgba(60, 64, 67, 0.3), 0px 1px 3px 1px rgba(60, 64, 67, 0.15);\n",
              "      fill: #174EA6;\n",
              "    }\n",
              "\n",
              "    [theme=dark] .colab-df-convert {\n",
              "      background-color: #3B4455;\n",
              "      fill: #D2E3FC;\n",
              "    }\n",
              "\n",
              "    [theme=dark] .colab-df-convert:hover {\n",
              "      background-color: #434B5C;\n",
              "      box-shadow: 0px 1px 3px 1px rgba(0, 0, 0, 0.15);\n",
              "      filter: drop-shadow(0px 1px 2px rgba(0, 0, 0, 0.3));\n",
              "      fill: #FFFFFF;\n",
              "    }\n",
              "  </style>\n",
              "\n",
              "      <script>\n",
              "        const buttonEl =\n",
              "          document.querySelector('#df-d5fec164-6bd0-4f82-a30b-456de6ecf917 button.colab-df-convert');\n",
              "        buttonEl.style.display =\n",
              "          google.colab.kernel.accessAllowed ? 'block' : 'none';\n",
              "\n",
              "        async function convertToInteractive(key) {\n",
              "          const element = document.querySelector('#df-d5fec164-6bd0-4f82-a30b-456de6ecf917');\n",
              "          const dataTable =\n",
              "            await google.colab.kernel.invokeFunction('convertToInteractive',\n",
              "                                                     [key], {});\n",
              "          if (!dataTable) return;\n",
              "\n",
              "          const docLinkHtml = 'Like what you see? Visit the ' +\n",
              "            '<a target=\"_blank\" href=https://colab.research.google.com/notebooks/data_table.ipynb>data table notebook</a>'\n",
              "            + ' to learn more about interactive tables.';\n",
              "          element.innerHTML = '';\n",
              "          dataTable['output_type'] = 'display_data';\n",
              "          await google.colab.output.renderOutput(dataTable, element);\n",
              "          const docLink = document.createElement('div');\n",
              "          docLink.innerHTML = docLinkHtml;\n",
              "          element.appendChild(docLink);\n",
              "        }\n",
              "      </script>\n",
              "    </div>\n",
              "  </div>\n",
              "  "
            ],
            "text/plain": [
              "    Destination Port   Flow Duration   Total Fwd Packets  \\\n",
              "0            49188.0             4.0                 2.0   \n",
              "1            49486.0             3.0                 2.0   \n",
              "2               88.0           609.0                 7.0   \n",
              "3               88.0           879.0                 9.0   \n",
              "4               88.0          1160.0                 9.0   \n",
              "\n",
              "    Total Backward Packets  Total Length of Fwd Packets  \\\n",
              "0                      0.0                         12.0   \n",
              "1                      0.0                         12.0   \n",
              "2                      4.0                        484.0   \n",
              "3                      4.0                        656.0   \n",
              "4                      6.0                       3134.0   \n",
              "\n",
              "    Total Length of Bwd Packets   Fwd Packet Length Max  \\\n",
              "0                           0.0                     6.0   \n",
              "1                           0.0                     6.0   \n",
              "2                         414.0                   233.0   \n",
              "3                        3064.0                   313.0   \n",
              "4                        3048.0                  1552.0   \n",
              "\n",
              "    Fwd Packet Length Min   Fwd Packet Length Mean   Fwd Packet Length Std  \\\n",
              "0                     6.0                 6.000000                0.000000   \n",
              "1                     6.0                 6.000000                0.000000   \n",
              "2                     0.0                69.142857              111.967895   \n",
              "3                     0.0                72.888889              136.153814   \n",
              "4                     0.0               348.222222              682.482560   \n",
              "\n",
              "   ...   min_seg_size_forward  Active Mean   Active Std   Active Max  \\\n",
              "0  ...                   20.0          0.0          0.0          0.0   \n",
              "1  ...                   20.0          0.0          0.0          0.0   \n",
              "2  ...                   20.0          0.0          0.0          0.0   \n",
              "3  ...                   20.0          0.0          0.0          0.0   \n",
              "4  ...                   20.0          0.0          0.0          0.0   \n",
              "\n",
              "    Active Min  Idle Mean   Idle Std   Idle Max   Idle Min   Label  \n",
              "0          0.0        0.0        0.0        0.0        0.0  BENIGN  \n",
              "1          0.0        0.0        0.0        0.0        0.0  BENIGN  \n",
              "2          0.0        0.0        0.0        0.0        0.0  BENIGN  \n",
              "3          0.0        0.0        0.0        0.0        0.0  BENIGN  \n",
              "4          0.0        0.0        0.0        0.0        0.0  BENIGN  \n",
              "\n",
              "[5 rows x 71 columns]"
            ]
          },
          "execution_count": 15,
          "metadata": {},
          "output_type": "execute_result"
        }
      ],
      "source": [
        "merge_df.head()"
      ]
    },
    {
      "cell_type": "markdown",
      "id": "39ddaa53",
      "metadata": {
        "id": "39ddaa53"
      },
      "source": [
        "## Removing Infinit & Null Values"
      ]
    },
    {
      "cell_type": "code",
      "execution_count": null,
      "id": "4d40384c",
      "metadata": {
        "colab": {
          "base_uri": "https://localhost:8080/"
        },
        "id": "4d40384c",
        "outputId": "9f4c96c1-5cd1-40b3-ee40-ceef1aff4545"
      },
      "outputs": [
        {
          "name": "stdout",
          "output_type": "stream",
          "text": [
            "Total row before removing null and infinite value are  2830434\n"
          ]
        }
      ],
      "source": [
        "print(f'Total row before removing null and infinite value are ', list(merge_df.shape)[0])"
      ]
    },
    {
      "cell_type": "code",
      "execution_count": null,
      "id": "cdbb54ad",
      "metadata": {
        "id": "cdbb54ad"
      },
      "outputs": [],
      "source": [
        "labl = merge_df[' Label']\n",
        "dataset = merge_df.loc[:, merge_df.columns != ' Label'].astype('float64')"
      ]
    },
    {
      "cell_type": "code",
      "execution_count": null,
      "id": "ad97d2a1",
      "metadata": {
        "colab": {
          "base_uri": "https://localhost:8080/"
        },
        "id": "ad97d2a1",
        "outputId": "a8b3479c-5cb2-4c95-9b33-b25df9bd2a8b"
      },
      "outputs": [
        {
          "name": "stdout",
          "output_type": "stream",
          "text": [
            "['Flow Bytes/s', ' Flow Packets/s']\n"
          ]
        }
      ],
      "source": [
        "# Checking what column/s contain non-finite values.\n",
        "nonfinite = [col for col in dataset if not np.all(np.isfinite(dataset[col]))]\n",
        "print(nonfinite)"
      ]
    },
    {
      "cell_type": "code",
      "execution_count": null,
      "id": "33044dc1",
      "metadata": {
        "colab": {
          "base_uri": "https://localhost:8080/"
        },
        "id": "33044dc1",
        "outputId": "8ff02280-09d8-4557-96a5-27905b432df0"
      },
      "outputs": [
        {
          "name": "stdout",
          "output_type": "stream",
          "text": [
            "FlowBytes/s: 2859\n",
            "Flow Packets/s  2859\n"
          ]
        }
      ],
      "source": [
        "# Checking how many non-finite values each column contains.\n",
        "finite = np.isfinite(merge_df['Flow Bytes/s']).sum()\n",
        "print(\"FlowBytes/s: \"+str(merge_df.shape[0] - finite))\n",
        "# Checking how many non-finite values each column contains.\n",
        "finite = np.isfinite(merge_df[' Flow Packets/s']).sum()\n",
        "print(\"Flow Packets/s  \"+str(merge_df.shape[0] - finite))"
      ]
    },
    {
      "cell_type": "code",
      "execution_count": null,
      "id": "d1eff123",
      "metadata": {
        "id": "d1eff123"
      },
      "outputs": [],
      "source": [
        "# Same as before, since there is a small number of non-finite values we can safely remove them from the dataset Replacing infinite values with NaN values.\n",
        "merge_df = merge_df.replace([np.inf, -np.inf], np.nan)"
      ]
    },
    {
      "cell_type": "code",
      "execution_count": null,
      "id": "595e3daf",
      "metadata": {
        "colab": {
          "base_uri": "https://localhost:8080/"
        },
        "id": "595e3daf",
        "outputId": "6cbf4f3d-3658-4623-b4cb-cf1ad6d26050"
      },
      "outputs": [
        {
          "data": {
            "text/plain": [
              "True"
            ]
          },
          "execution_count": 21,
          "metadata": {},
          "output_type": "execute_result"
        }
      ],
      "source": [
        "merge_df.isnull().values.any()"
      ]
    },
    {
      "cell_type": "code",
      "execution_count": null,
      "id": "1968b463",
      "metadata": {
        "colab": {
          "base_uri": "https://localhost:8080/"
        },
        "id": "1968b463",
        "outputId": "09653e26-8863-4ae8-b1c0-a49df3b37d1d"
      },
      "outputs": [
        {
          "name": "stdout",
          "output_type": "stream",
          "text": [
            "Total number of rows containing NAN values: 2859\n"
          ]
        }
      ],
      "source": [
        "# Total number of rows containing NAN values\n",
        "print(f\"Total number of rows containing NAN values: {merge_df.shape[0] - merge_df.dropna().shape[0]}\")"
      ]
    },
    {
      "cell_type": "code",
      "execution_count": null,
      "id": "0654e63b",
      "metadata": {
        "colab": {
          "base_uri": "https://localhost:8080/"
        },
        "id": "0654e63b",
        "outputId": "19b46f57-5eec-40d5-9269-a167ea82c98d"
      },
      "outputs": [
        {
          "name": "stdout",
          "output_type": "stream",
          "text": [
            "0.1010092445186851 of dataset will be removed\n"
          ]
        }
      ],
      "source": [
        "# Considering that only 5718 rows contain NULL vlaues in the entire dataset, which makes about 0.10%, we\n",
        "# can safely remove all NULL rows without spoiling the data.\n",
        "perct = 2859/merge_df.shape[0]*100\n",
        "print(f'{perct} of dataset will be removed')"
      ]
    },
    {
      "cell_type": "code",
      "execution_count": null,
      "id": "0e143105",
      "metadata": {
        "colab": {
          "base_uri": "https://localhost:8080/"
        },
        "id": "0e143105",
        "outputId": "c640487a-4fc2-4af3-d016-bad22eeda30c"
      },
      "outputs": [
        {
          "name": "stdout",
          "output_type": "stream",
          "text": [
            "No of removed rows: 2859\n"
          ]
        }
      ],
      "source": [
        "# Removing rows that contain NULL values and checking if number of removed rows is equal to the number of null values.\n",
        "before = merge_df.shape\n",
        "merge_df.dropna(inplace=True)\n",
        "after = merge_df.shape\n",
        "print(\"No of removed rows: \"+str(before[0] - after[0]))"
      ]
    },
    {
      "cell_type": "markdown",
      "id": "85f42399",
      "metadata": {
        "id": "85f42399"
      },
      "source": [
        "## Removing Duplicates"
      ]
    },
    {
      "cell_type": "code",
      "execution_count": null,
      "id": "22eeffb2",
      "metadata": {
        "colab": {
          "base_uri": "https://localhost:8080/"
        },
        "id": "22eeffb2",
        "outputId": "e2464f92-ffde-4e12-b38d-9d7e23727497"
      },
      "outputs": [
        {
          "name": "stdout",
          "output_type": "stream",
          "text": [
            "No of removed duplicate rows: 306664\n"
          ]
        }
      ],
      "source": [
        "before = merge_df.shape\n",
        "# drop duplicate rows\n",
        "merge_df =  merge_df.drop_duplicates(keep=\"first\")\n",
        "merge_df.reset_index(drop=True,inplace=True)\n",
        "after = merge_df.shape\n",
        "print(\"No of removed duplicate rows: \"+str(before[0] - after[0]))"
      ]
    },
    {
      "cell_type": "markdown",
      "id": "867aa214",
      "metadata": {
        "id": "867aa214"
      },
      "source": [
        "# Removing Features with same single values"
      ]
    },
    {
      "cell_type": "code",
      "execution_count": null,
      "id": "621fcecd",
      "metadata": {
        "colab": {
          "base_uri": "https://localhost:8080/"
        },
        "id": "621fcecd",
        "outputId": "13d7bc5d-2065-49dc-e273-b9acf6ed9fda"
      },
      "outputs": [
        {
          "name": "stdout",
          "output_type": "stream",
          "text": [
            "[]\n"
          ]
        }
      ],
      "source": [
        "# drop one variable features \n",
        "one_variable_list = []\n",
        "for i in merge_df.columns:\n",
        "    if merge_df[i].value_counts().nunique() < 2:\n",
        "        one_variable_list.append(i)\n",
        "        \n",
        "print(one_variable_list)"
      ]
    },
    {
      "cell_type": "markdown",
      "id": "IMjwe0Gqh6wp",
      "metadata": {
        "id": "IMjwe0Gqh6wp"
      },
      "source": [
        "## Categorical Features Encoding"
      ]
    },
    {
      "cell_type": "markdown",
      "id": "1b677908",
      "metadata": {
        "id": "1b677908"
      },
      "source": [
        "# Normalizing Column Names and Labels\n",
        "\n",
        "> Indented block\n",
        "\n"
      ]
    },
    {
      "cell_type": "code",
      "execution_count": null,
      "id": "b959a9fe",
      "metadata": {
        "colab": {
          "base_uri": "https://localhost:8080/",
          "height": 205
        },
        "id": "b959a9fe",
        "outputId": "73b93ee1-3c55-4f59-a5ea-db3ca07133bd"
      },
      "outputs": [
        {
          "data": {
            "text/html": [
              "\n",
              "  <div id=\"df-c3cbecb5-731f-40c5-84b4-a971baf3c21f\">\n",
              "    <div class=\"colab-df-container\">\n",
              "      <div>\n",
              "<style scoped>\n",
              "    .dataframe tbody tr th:only-of-type {\n",
              "        vertical-align: middle;\n",
              "    }\n",
              "\n",
              "    .dataframe tbody tr th {\n",
              "        vertical-align: top;\n",
              "    }\n",
              "\n",
              "    .dataframe thead th {\n",
              "        text-align: right;\n",
              "    }\n",
              "</style>\n",
              "<table border=\"1\" class=\"dataframe\">\n",
              "  <thead>\n",
              "    <tr style=\"text-align: right;\">\n",
              "      <th></th>\n",
              "      <th>DestinationPort</th>\n",
              "      <th>FlowDuration</th>\n",
              "      <th>TotalFwdPackets</th>\n",
              "      <th>TotalBackwardPackets</th>\n",
              "      <th>TotalLengthofFwdPackets</th>\n",
              "      <th>TotalLengthofBwdPackets</th>\n",
              "      <th>FwdPacketLengthMax</th>\n",
              "      <th>FwdPacketLengthMin</th>\n",
              "      <th>FwdPacketLengthMean</th>\n",
              "      <th>FwdPacketLengthStd</th>\n",
              "      <th>...</th>\n",
              "      <th>min_seg_size_forward</th>\n",
              "      <th>ActiveMean</th>\n",
              "      <th>ActiveStd</th>\n",
              "      <th>ActiveMax</th>\n",
              "      <th>ActiveMin</th>\n",
              "      <th>IdleMean</th>\n",
              "      <th>IdleStd</th>\n",
              "      <th>IdleMax</th>\n",
              "      <th>IdleMin</th>\n",
              "      <th>Label</th>\n",
              "    </tr>\n",
              "  </thead>\n",
              "  <tbody>\n",
              "    <tr>\n",
              "      <th>0</th>\n",
              "      <td>49188.0</td>\n",
              "      <td>4.0</td>\n",
              "      <td>2.0</td>\n",
              "      <td>0.0</td>\n",
              "      <td>12.0</td>\n",
              "      <td>0.0</td>\n",
              "      <td>6.0</td>\n",
              "      <td>6.0</td>\n",
              "      <td>6.0</td>\n",
              "      <td>0.0</td>\n",
              "      <td>...</td>\n",
              "      <td>20.0</td>\n",
              "      <td>0.0</td>\n",
              "      <td>0.0</td>\n",
              "      <td>0.0</td>\n",
              "      <td>0.0</td>\n",
              "      <td>0.0</td>\n",
              "      <td>0.0</td>\n",
              "      <td>0.0</td>\n",
              "      <td>0.0</td>\n",
              "      <td>BENIGN</td>\n",
              "    </tr>\n",
              "    <tr>\n",
              "      <th>1</th>\n",
              "      <td>49486.0</td>\n",
              "      <td>3.0</td>\n",
              "      <td>2.0</td>\n",
              "      <td>0.0</td>\n",
              "      <td>12.0</td>\n",
              "      <td>0.0</td>\n",
              "      <td>6.0</td>\n",
              "      <td>6.0</td>\n",
              "      <td>6.0</td>\n",
              "      <td>0.0</td>\n",
              "      <td>...</td>\n",
              "      <td>20.0</td>\n",
              "      <td>0.0</td>\n",
              "      <td>0.0</td>\n",
              "      <td>0.0</td>\n",
              "      <td>0.0</td>\n",
              "      <td>0.0</td>\n",
              "      <td>0.0</td>\n",
              "      <td>0.0</td>\n",
              "      <td>0.0</td>\n",
              "      <td>BENIGN</td>\n",
              "    </tr>\n",
              "  </tbody>\n",
              "</table>\n",
              "<p>2 rows × 71 columns</p>\n",
              "</div>\n",
              "      <button class=\"colab-df-convert\" onclick=\"convertToInteractive('df-c3cbecb5-731f-40c5-84b4-a971baf3c21f')\"\n",
              "              title=\"Convert this dataframe to an interactive table.\"\n",
              "              style=\"display:none;\">\n",
              "        \n",
              "  <svg xmlns=\"http://www.w3.org/2000/svg\" height=\"24px\"viewBox=\"0 0 24 24\"\n",
              "       width=\"24px\">\n",
              "    <path d=\"M0 0h24v24H0V0z\" fill=\"none\"/>\n",
              "    <path d=\"M18.56 5.44l.94 2.06.94-2.06 2.06-.94-2.06-.94-.94-2.06-.94 2.06-2.06.94zm-11 1L8.5 8.5l.94-2.06 2.06-.94-2.06-.94L8.5 2.5l-.94 2.06-2.06.94zm10 10l.94 2.06.94-2.06 2.06-.94-2.06-.94-.94-2.06-.94 2.06-2.06.94z\"/><path d=\"M17.41 7.96l-1.37-1.37c-.4-.4-.92-.59-1.43-.59-.52 0-1.04.2-1.43.59L10.3 9.45l-7.72 7.72c-.78.78-.78 2.05 0 2.83L4 21.41c.39.39.9.59 1.41.59.51 0 1.02-.2 1.41-.59l7.78-7.78 2.81-2.81c.8-.78.8-2.07 0-2.86zM5.41 20L4 18.59l7.72-7.72 1.47 1.35L5.41 20z\"/>\n",
              "  </svg>\n",
              "      </button>\n",
              "      \n",
              "  <style>\n",
              "    .colab-df-container {\n",
              "      display:flex;\n",
              "      flex-wrap:wrap;\n",
              "      gap: 12px;\n",
              "    }\n",
              "\n",
              "    .colab-df-convert {\n",
              "      background-color: #E8F0FE;\n",
              "      border: none;\n",
              "      border-radius: 50%;\n",
              "      cursor: pointer;\n",
              "      display: none;\n",
              "      fill: #1967D2;\n",
              "      height: 32px;\n",
              "      padding: 0 0 0 0;\n",
              "      width: 32px;\n",
              "    }\n",
              "\n",
              "    .colab-df-convert:hover {\n",
              "      background-color: #E2EBFA;\n",
              "      box-shadow: 0px 1px 2px rgba(60, 64, 67, 0.3), 0px 1px 3px 1px rgba(60, 64, 67, 0.15);\n",
              "      fill: #174EA6;\n",
              "    }\n",
              "\n",
              "    [theme=dark] .colab-df-convert {\n",
              "      background-color: #3B4455;\n",
              "      fill: #D2E3FC;\n",
              "    }\n",
              "\n",
              "    [theme=dark] .colab-df-convert:hover {\n",
              "      background-color: #434B5C;\n",
              "      box-shadow: 0px 1px 3px 1px rgba(0, 0, 0, 0.15);\n",
              "      filter: drop-shadow(0px 1px 2px rgba(0, 0, 0, 0.3));\n",
              "      fill: #FFFFFF;\n",
              "    }\n",
              "  </style>\n",
              "\n",
              "      <script>\n",
              "        const buttonEl =\n",
              "          document.querySelector('#df-c3cbecb5-731f-40c5-84b4-a971baf3c21f button.colab-df-convert');\n",
              "        buttonEl.style.display =\n",
              "          google.colab.kernel.accessAllowed ? 'block' : 'none';\n",
              "\n",
              "        async function convertToInteractive(key) {\n",
              "          const element = document.querySelector('#df-c3cbecb5-731f-40c5-84b4-a971baf3c21f');\n",
              "          const dataTable =\n",
              "            await google.colab.kernel.invokeFunction('convertToInteractive',\n",
              "                                                     [key], {});\n",
              "          if (!dataTable) return;\n",
              "\n",
              "          const docLinkHtml = 'Like what you see? Visit the ' +\n",
              "            '<a target=\"_blank\" href=https://colab.research.google.com/notebooks/data_table.ipynb>data table notebook</a>'\n",
              "            + ' to learn more about interactive tables.';\n",
              "          element.innerHTML = '';\n",
              "          dataTable['output_type'] = 'display_data';\n",
              "          await google.colab.output.renderOutput(dataTable, element);\n",
              "          const docLink = document.createElement('div');\n",
              "          docLink.innerHTML = docLinkHtml;\n",
              "          element.appendChild(docLink);\n",
              "        }\n",
              "      </script>\n",
              "    </div>\n",
              "  </div>\n",
              "  "
            ],
            "text/plain": [
              "   DestinationPort  FlowDuration  TotalFwdPackets  TotalBackwardPackets  \\\n",
              "0          49188.0           4.0              2.0                   0.0   \n",
              "1          49486.0           3.0              2.0                   0.0   \n",
              "\n",
              "   TotalLengthofFwdPackets  TotalLengthofBwdPackets  FwdPacketLengthMax  \\\n",
              "0                     12.0                      0.0                 6.0   \n",
              "1                     12.0                      0.0                 6.0   \n",
              "\n",
              "   FwdPacketLengthMin  FwdPacketLengthMean  FwdPacketLengthStd  ...  \\\n",
              "0                 6.0                  6.0                 0.0  ...   \n",
              "1                 6.0                  6.0                 0.0  ...   \n",
              "\n",
              "   min_seg_size_forward  ActiveMean  ActiveStd  ActiveMax  ActiveMin  \\\n",
              "0                  20.0         0.0        0.0        0.0        0.0   \n",
              "1                  20.0         0.0        0.0        0.0        0.0   \n",
              "\n",
              "   IdleMean  IdleStd  IdleMax  IdleMin   Label  \n",
              "0       0.0      0.0      0.0      0.0  BENIGN  \n",
              "1       0.0      0.0      0.0      0.0  BENIGN  \n",
              "\n",
              "[2 rows x 71 columns]"
            ]
          },
          "execution_count": 27,
          "metadata": {},
          "output_type": "execute_result"
        }
      ],
      "source": [
        "# Removing whitespaces in column names.\n",
        "col_names = [col.replace(' ', '').replace('-','').replace('/','').replace('\\\\','') for col in merge_df.columns]\n",
        "merge_df.columns = col_names\n",
        "merge_df.head(2)"
      ]
    },
    {
      "cell_type": "code",
      "execution_count": null,
      "id": "1eee905f",
      "metadata": {
        "colab": {
          "base_uri": "https://localhost:8080/",
          "height": 520
        },
        "id": "1eee905f",
        "outputId": "50d91c5b-11bc-4b54-d277-188118735579"
      },
      "outputs": [
        {
          "data": {
            "text/html": [
              "\n",
              "  <div id=\"df-989d2154-8813-48c8-8577-5ef3ebfd4a68\">\n",
              "    <div class=\"colab-df-container\">\n",
              "      <div>\n",
              "<style scoped>\n",
              "    .dataframe tbody tr th:only-of-type {\n",
              "        vertical-align: middle;\n",
              "    }\n",
              "\n",
              "    .dataframe tbody tr th {\n",
              "        vertical-align: top;\n",
              "    }\n",
              "\n",
              "    .dataframe thead th {\n",
              "        text-align: right;\n",
              "    }\n",
              "</style>\n",
              "<table border=\"1\" class=\"dataframe\">\n",
              "  <thead>\n",
              "    <tr style=\"text-align: right;\">\n",
              "      <th></th>\n",
              "      <th>Label</th>\n",
              "    </tr>\n",
              "  </thead>\n",
              "  <tbody>\n",
              "    <tr>\n",
              "      <th>normal</th>\n",
              "      <td>2095170</td>\n",
              "    </tr>\n",
              "    <tr>\n",
              "      <th>DoSHulk</th>\n",
              "      <td>172846</td>\n",
              "    </tr>\n",
              "    <tr>\n",
              "      <th>DDoS</th>\n",
              "      <td>128014</td>\n",
              "    </tr>\n",
              "    <tr>\n",
              "      <th>PortScan</th>\n",
              "      <td>90694</td>\n",
              "    </tr>\n",
              "    <tr>\n",
              "      <th>DoSGoldenEye</th>\n",
              "      <td>10286</td>\n",
              "    </tr>\n",
              "    <tr>\n",
              "      <th>FTPPatator</th>\n",
              "      <td>5931</td>\n",
              "    </tr>\n",
              "    <tr>\n",
              "      <th>DoSslowloris</th>\n",
              "      <td>5385</td>\n",
              "    </tr>\n",
              "    <tr>\n",
              "      <th>DoSSlowhttptest</th>\n",
              "      <td>5228</td>\n",
              "    </tr>\n",
              "    <tr>\n",
              "      <th>SSHPatator</th>\n",
              "      <td>3219</td>\n",
              "    </tr>\n",
              "    <tr>\n",
              "      <th>Bot</th>\n",
              "      <td>1948</td>\n",
              "    </tr>\n",
              "    <tr>\n",
              "      <th>WebAttackBruteForce</th>\n",
              "      <td>1470</td>\n",
              "    </tr>\n",
              "    <tr>\n",
              "      <th>WebAttackXSS</th>\n",
              "      <td>652</td>\n",
              "    </tr>\n",
              "    <tr>\n",
              "      <th>Infiltration</th>\n",
              "      <td>36</td>\n",
              "    </tr>\n",
              "    <tr>\n",
              "      <th>WebAttackSqlInjection</th>\n",
              "      <td>21</td>\n",
              "    </tr>\n",
              "    <tr>\n",
              "      <th>Heartbleed</th>\n",
              "      <td>11</td>\n",
              "    </tr>\n",
              "  </tbody>\n",
              "</table>\n",
              "</div>\n",
              "      <button class=\"colab-df-convert\" onclick=\"convertToInteractive('df-989d2154-8813-48c8-8577-5ef3ebfd4a68')\"\n",
              "              title=\"Convert this dataframe to an interactive table.\"\n",
              "              style=\"display:none;\">\n",
              "        \n",
              "  <svg xmlns=\"http://www.w3.org/2000/svg\" height=\"24px\"viewBox=\"0 0 24 24\"\n",
              "       width=\"24px\">\n",
              "    <path d=\"M0 0h24v24H0V0z\" fill=\"none\"/>\n",
              "    <path d=\"M18.56 5.44l.94 2.06.94-2.06 2.06-.94-2.06-.94-.94-2.06-.94 2.06-2.06.94zm-11 1L8.5 8.5l.94-2.06 2.06-.94-2.06-.94L8.5 2.5l-.94 2.06-2.06.94zm10 10l.94 2.06.94-2.06 2.06-.94-2.06-.94-.94-2.06-.94 2.06-2.06.94z\"/><path d=\"M17.41 7.96l-1.37-1.37c-.4-.4-.92-.59-1.43-.59-.52 0-1.04.2-1.43.59L10.3 9.45l-7.72 7.72c-.78.78-.78 2.05 0 2.83L4 21.41c.39.39.9.59 1.41.59.51 0 1.02-.2 1.41-.59l7.78-7.78 2.81-2.81c.8-.78.8-2.07 0-2.86zM5.41 20L4 18.59l7.72-7.72 1.47 1.35L5.41 20z\"/>\n",
              "  </svg>\n",
              "      </button>\n",
              "      \n",
              "  <style>\n",
              "    .colab-df-container {\n",
              "      display:flex;\n",
              "      flex-wrap:wrap;\n",
              "      gap: 12px;\n",
              "    }\n",
              "\n",
              "    .colab-df-convert {\n",
              "      background-color: #E8F0FE;\n",
              "      border: none;\n",
              "      border-radius: 50%;\n",
              "      cursor: pointer;\n",
              "      display: none;\n",
              "      fill: #1967D2;\n",
              "      height: 32px;\n",
              "      padding: 0 0 0 0;\n",
              "      width: 32px;\n",
              "    }\n",
              "\n",
              "    .colab-df-convert:hover {\n",
              "      background-color: #E2EBFA;\n",
              "      box-shadow: 0px 1px 2px rgba(60, 64, 67, 0.3), 0px 1px 3px 1px rgba(60, 64, 67, 0.15);\n",
              "      fill: #174EA6;\n",
              "    }\n",
              "\n",
              "    [theme=dark] .colab-df-convert {\n",
              "      background-color: #3B4455;\n",
              "      fill: #D2E3FC;\n",
              "    }\n",
              "\n",
              "    [theme=dark] .colab-df-convert:hover {\n",
              "      background-color: #434B5C;\n",
              "      box-shadow: 0px 1px 3px 1px rgba(0, 0, 0, 0.15);\n",
              "      filter: drop-shadow(0px 1px 2px rgba(0, 0, 0, 0.3));\n",
              "      fill: #FFFFFF;\n",
              "    }\n",
              "  </style>\n",
              "\n",
              "      <script>\n",
              "        const buttonEl =\n",
              "          document.querySelector('#df-989d2154-8813-48c8-8577-5ef3ebfd4a68 button.colab-df-convert');\n",
              "        buttonEl.style.display =\n",
              "          google.colab.kernel.accessAllowed ? 'block' : 'none';\n",
              "\n",
              "        async function convertToInteractive(key) {\n",
              "          const element = document.querySelector('#df-989d2154-8813-48c8-8577-5ef3ebfd4a68');\n",
              "          const dataTable =\n",
              "            await google.colab.kernel.invokeFunction('convertToInteractive',\n",
              "                                                     [key], {});\n",
              "          if (!dataTable) return;\n",
              "\n",
              "          const docLinkHtml = 'Like what you see? Visit the ' +\n",
              "            '<a target=\"_blank\" href=https://colab.research.google.com/notebooks/data_table.ipynb>data table notebook</a>'\n",
              "            + ' to learn more about interactive tables.';\n",
              "          element.innerHTML = '';\n",
              "          dataTable['output_type'] = 'display_data';\n",
              "          await google.colab.output.renderOutput(dataTable, element);\n",
              "          const docLink = document.createElement('div');\n",
              "          docLink.innerHTML = docLinkHtml;\n",
              "          element.appendChild(docLink);\n",
              "        }\n",
              "      </script>\n",
              "    </div>\n",
              "  </div>\n",
              "  "
            ],
            "text/plain": [
              "                         Label\n",
              "normal                 2095170\n",
              "DoSHulk                 172846\n",
              "DDoS                    128014\n",
              "PortScan                 90694\n",
              "DoSGoldenEye             10286\n",
              "FTPPatator                5931\n",
              "DoSslowloris              5385\n",
              "DoSSlowhttptest           5228\n",
              "SSHPatator                3219\n",
              "Bot                       1948\n",
              "WebAttackBruteForce       1470\n",
              "WebAttackXSS               652\n",
              "Infiltration                36\n",
              "WebAttackSqlInjection       21\n",
              "Heartbleed                  11"
            ]
          },
          "execution_count": 28,
          "metadata": {},
          "output_type": "execute_result"
        }
      ],
      "source": [
        "# Dealing With Labels Classes removing space and hyphens\n",
        "def normalizeClass(label):\n",
        "  if label == 'BENIGN':\n",
        "    return 'normal'\n",
        "  else:\n",
        "    return label.replace(' ','').replace('–','').replace('-','')\n",
        "merge_df['Label'] = merge_df['Label'].apply(normalizeClass)\n",
        "merge_df.groupby('Label').agg({'Label':'count'}).rename_axis(None).sort_values('Label', ascending=False)"
      ]
    },
    {
      "cell_type": "code",
      "execution_count": null,
      "id": "abqEH_RMIgXh",
      "metadata": {
        "id": "abqEH_RMIgXh"
      },
      "outputs": [],
      "source": [
        "merge_df = pd.read_csv(dataset_path+'processed/cleanDatasetWithoutEncoding.csv')"
      ]
    },
    {
      "cell_type": "markdown",
      "id": "03DAyFgrJoEy",
      "metadata": {
        "id": "03DAyFgrJoEy"
      },
      "source": [
        "## Memory Reduction by type casting"
      ]
    },
    {
      "cell_type": "code",
      "execution_count": null,
      "id": "iUbg15mlHqqG",
      "metadata": {
        "colab": {
          "base_uri": "https://localhost:8080/"
        },
        "id": "iUbg15mlHqqG",
        "outputId": "5acb5058-ff59-43c9-eae3-c83417149874"
      },
      "outputs": [
        {
          "name": "stdout",
          "output_type": "stream",
          "text": [
            "<class 'pandas.core.frame.DataFrame'>\n",
            "RangeIndex: 2520911 entries, 0 to 2520910\n",
            "Data columns (total 71 columns):\n",
            " #   Column                   Dtype  \n",
            "---  ------                   -----  \n",
            " 0   DestinationPort          float32\n",
            " 1   FlowDuration             float32\n",
            " 2   TotalFwdPackets          float32\n",
            " 3   TotalBackwardPackets     float32\n",
            " 4   TotalLengthofFwdPackets  float32\n",
            " 5   TotalLengthofBwdPackets  float32\n",
            " 6   FwdPacketLengthMax       float32\n",
            " 7   FwdPacketLengthMin       float32\n",
            " 8   FwdPacketLengthMean      float32\n",
            " 9   FwdPacketLengthStd       float32\n",
            " 10  BwdPacketLengthMax       float32\n",
            " 11  BwdPacketLengthMin       float32\n",
            " 12  BwdPacketLengthMean      float32\n",
            " 13  BwdPacketLengthStd       float32\n",
            " 14  FlowBytess               float32\n",
            " 15  FlowPacketss             float32\n",
            " 16  FlowIATMean              float32\n",
            " 17  FlowIATStd               float32\n",
            " 18  FlowIATMax               float32\n",
            " 19  FlowIATMin               float32\n",
            " 20  FwdIATTotal              float32\n",
            " 21  FwdIATMean               float32\n",
            " 22  FwdIATStd                float32\n",
            " 23  FwdIATMax                float32\n",
            " 24  FwdIATMin                float32\n",
            " 25  BwdIATTotal              float32\n",
            " 26  BwdIATMean               float32\n",
            " 27  BwdIATStd                float32\n",
            " 28  BwdIATMax                float32\n",
            " 29  BwdIATMin                float32\n",
            " 30  FwdPSHFlags              float32\n",
            " 31  FwdURGFlags              float32\n",
            " 32  FwdHeaderLength          float32\n",
            " 33  BwdHeaderLength          float32\n",
            " 34  FwdPacketss              float32\n",
            " 35  BwdPacketss              float32\n",
            " 36  MinPacketLength          float32\n",
            " 37  MaxPacketLength          float32\n",
            " 38  PacketLengthMean         float32\n",
            " 39  PacketLengthStd          float32\n",
            " 40  PacketLengthVariance     float32\n",
            " 41  FINFlagCount             float32\n",
            " 42  SYNFlagCount             float32\n",
            " 43  RSTFlagCount             float32\n",
            " 44  PSHFlagCount             float32\n",
            " 45  ACKFlagCount             float32\n",
            " 46  URGFlagCount             float32\n",
            " 47  CWEFlagCount             float32\n",
            " 48  ECEFlagCount             float32\n",
            " 49  DownUpRatio              float32\n",
            " 50  AveragePacketSize        float32\n",
            " 51  AvgFwdSegmentSize        float32\n",
            " 52  AvgBwdSegmentSize        float32\n",
            " 53  FwdHeaderLength.1        float32\n",
            " 54  SubflowFwdPackets        float32\n",
            " 55  SubflowFwdBytes          float32\n",
            " 56  SubflowBwdPackets        float32\n",
            " 57  SubflowBwdBytes          float32\n",
            " 58  Init_Win_bytes_forward   float32\n",
            " 59  Init_Win_bytes_backward  float32\n",
            " 60  act_data_pkt_fwd         float32\n",
            " 61  min_seg_size_forward     float32\n",
            " 62  ActiveMean               float32\n",
            " 63  ActiveStd                float32\n",
            " 64  ActiveMax                float32\n",
            " 65  ActiveMin                float32\n",
            " 66  IdleMean                 float32\n",
            " 67  IdleStd                  float32\n",
            " 68  IdleMax                  float32\n",
            " 69  IdleMin                  float32\n",
            " 70  Label                    object \n",
            "dtypes: float32(70), object(1)\n",
            "memory usage: 692.4+ MB\n"
          ]
        }
      ],
      "source": [
        "old_memory_usage = merge_df.memory_usage().sum()\n",
        "#change the variable types for low memory usage\n",
        "#int64 to int32,,, float64 to float32\n",
        "integer = []\n",
        "f = []\n",
        "for i in merge_df.columns[:-1]:\n",
        "    if merge_df[i].dtype == \"int64\": integer.append(i)\n",
        "    else : f.append(i)\n",
        "\n",
        "merge_df[integer] = merge_df[integer].astype(\"int32\")\n",
        "merge_df[f] = merge_df[f].astype(\"float32\")\n",
        "merge_df.info()"
      ]
    },
    {
      "cell_type": "code",
      "execution_count": null,
      "id": "Tcc2FOeCIQZS",
      "metadata": {
        "colab": {
          "base_uri": "https://localhost:8080/"
        },
        "id": "Tcc2FOeCIQZS",
        "outputId": "26d623d9-810d-497f-b9a2-dede4463e910"
      },
      "outputs": [
        {
          "name": "stdout",
          "output_type": "stream",
          "text": [
            "%49.295770241184364 lower memory usage\n"
          ]
        }
      ],
      "source": [
        "new_memory_usage = merge_df.memory_usage().sum()\n",
        "old_vs_new = (old_memory_usage - new_memory_usage) / old_memory_usage * 100\n",
        "print(f\"%{old_vs_new} lower memory usage\")"
      ]
    },
    {
      "cell_type": "markdown",
      "id": "c6SAALnMJ-Dm",
      "metadata": {
        "id": "c6SAALnMJ-Dm"
      },
      "source": [
        "## Saving Dataset as CSV for later Use"
      ]
    },
    {
      "cell_type": "code",
      "execution_count": null,
      "id": "45662299",
      "metadata": {
        "id": "45662299"
      },
      "outputs": [],
      "source": [
        "# Now we are saving dataset such that labels are encoded\n",
        "merge_df.to_csv(dataset_path+'processed/cleanDatasetWithoutEncoding.csv', index=False)"
      ]
    },
    {
      "cell_type": "markdown",
      "id": "5271e465",
      "metadata": {
        "id": "5271e465"
      },
      "source": [
        "# Label Encoding"
      ]
    },
    {
      "cell_type": "code",
      "execution_count": null,
      "id": "9ffe1cde",
      "metadata": {
        "id": "9ffe1cde"
      },
      "outputs": [],
      "source": [
        "from sklearn.preprocessing import LabelEncoder"
      ]
    },
    {
      "cell_type": "code",
      "execution_count": null,
      "id": "682d24a1",
      "metadata": {
        "colab": {
          "base_uri": "https://localhost:8080/"
        },
        "id": "682d24a1",
        "outputId": "c6b6f792-f37b-4548-dc9a-4131d17f4141"
      },
      "outputs": [
        {
          "name": "stdout",
          "output_type": "stream",
          "text": [
            "0          normal\n",
            "1          normal\n",
            "2          normal\n",
            "3          normal\n",
            "4          normal\n",
            "            ...  \n",
            "2520906    normal\n",
            "2520907    normal\n",
            "2520908    normal\n",
            "2520909    normal\n",
            "2520910    normal\n",
            "Name: Label, Length: 2520911, dtype: object\n"
          ]
        }
      ],
      "source": [
        "# Seperating labels from features\n",
        "labels = merge_df['Label']\n",
        "print(labels)"
      ]
    },
    {
      "cell_type": "code",
      "execution_count": null,
      "id": "28fa3ad1",
      "metadata": {
        "colab": {
          "base_uri": "https://localhost:8080/"
        },
        "id": "28fa3ad1",
        "outputId": "f6b67762-bd8b-40ea-c453-49a094fda127"
      },
      "outputs": [
        {
          "name": "stdout",
          "output_type": "stream",
          "text": [
            "[14 14 14 ... 14 14 14]\n"
          ]
        }
      ],
      "source": [
        "# Labels have been replaced with integers.\n",
        "LE = LabelEncoder()\n",
        "LE.fit(labels)\n",
        "encodedLabels = LE.transform(labels)\n",
        "print(encodedLabels)"
      ]
    },
    {
      "cell_type": "code",
      "execution_count": null,
      "id": "82423bf4",
      "metadata": {
        "colab": {
          "base_uri": "https://localhost:8080/",
          "height": 300
        },
        "id": "82423bf4",
        "outputId": "2a77ed4d-6b4b-4046-dd0b-42511900b2ab"
      },
      "outputs": [
        {
          "data": {
            "text/html": [
              "\n",
              "  <div id=\"df-d3df6222-7904-4e10-bbe3-7b7e991a0154\">\n",
              "    <div class=\"colab-df-container\">\n",
              "      <div>\n",
              "<style scoped>\n",
              "    .dataframe tbody tr th:only-of-type {\n",
              "        vertical-align: middle;\n",
              "    }\n",
              "\n",
              "    .dataframe tbody tr th {\n",
              "        vertical-align: top;\n",
              "    }\n",
              "\n",
              "    .dataframe thead th {\n",
              "        text-align: right;\n",
              "    }\n",
              "</style>\n",
              "<table border=\"1\" class=\"dataframe\">\n",
              "  <thead>\n",
              "    <tr style=\"text-align: right;\">\n",
              "      <th></th>\n",
              "      <th>DestinationPort</th>\n",
              "      <th>FlowDuration</th>\n",
              "      <th>TotalFwdPackets</th>\n",
              "      <th>TotalBackwardPackets</th>\n",
              "      <th>TotalLengthofFwdPackets</th>\n",
              "      <th>TotalLengthofBwdPackets</th>\n",
              "      <th>FwdPacketLengthMax</th>\n",
              "      <th>FwdPacketLengthMin</th>\n",
              "      <th>FwdPacketLengthMean</th>\n",
              "      <th>FwdPacketLengthStd</th>\n",
              "      <th>...</th>\n",
              "      <th>min_seg_size_forward</th>\n",
              "      <th>ActiveMean</th>\n",
              "      <th>ActiveStd</th>\n",
              "      <th>ActiveMax</th>\n",
              "      <th>ActiveMin</th>\n",
              "      <th>IdleMean</th>\n",
              "      <th>IdleStd</th>\n",
              "      <th>IdleMax</th>\n",
              "      <th>IdleMin</th>\n",
              "      <th>Label</th>\n",
              "    </tr>\n",
              "  </thead>\n",
              "  <tbody>\n",
              "    <tr>\n",
              "      <th>0</th>\n",
              "      <td>49188.0</td>\n",
              "      <td>4.0</td>\n",
              "      <td>2.0</td>\n",
              "      <td>0.0</td>\n",
              "      <td>12.0</td>\n",
              "      <td>0.0</td>\n",
              "      <td>6.0</td>\n",
              "      <td>6.0</td>\n",
              "      <td>6.000000</td>\n",
              "      <td>0.000000</td>\n",
              "      <td>...</td>\n",
              "      <td>20.0</td>\n",
              "      <td>0.0</td>\n",
              "      <td>0.0</td>\n",
              "      <td>0.0</td>\n",
              "      <td>0.0</td>\n",
              "      <td>0.0</td>\n",
              "      <td>0.0</td>\n",
              "      <td>0.0</td>\n",
              "      <td>0.0</td>\n",
              "      <td>14</td>\n",
              "    </tr>\n",
              "    <tr>\n",
              "      <th>1</th>\n",
              "      <td>49486.0</td>\n",
              "      <td>3.0</td>\n",
              "      <td>2.0</td>\n",
              "      <td>0.0</td>\n",
              "      <td>12.0</td>\n",
              "      <td>0.0</td>\n",
              "      <td>6.0</td>\n",
              "      <td>6.0</td>\n",
              "      <td>6.000000</td>\n",
              "      <td>0.000000</td>\n",
              "      <td>...</td>\n",
              "      <td>20.0</td>\n",
              "      <td>0.0</td>\n",
              "      <td>0.0</td>\n",
              "      <td>0.0</td>\n",
              "      <td>0.0</td>\n",
              "      <td>0.0</td>\n",
              "      <td>0.0</td>\n",
              "      <td>0.0</td>\n",
              "      <td>0.0</td>\n",
              "      <td>14</td>\n",
              "    </tr>\n",
              "    <tr>\n",
              "      <th>2</th>\n",
              "      <td>88.0</td>\n",
              "      <td>609.0</td>\n",
              "      <td>7.0</td>\n",
              "      <td>4.0</td>\n",
              "      <td>484.0</td>\n",
              "      <td>414.0</td>\n",
              "      <td>233.0</td>\n",
              "      <td>0.0</td>\n",
              "      <td>69.142860</td>\n",
              "      <td>111.967896</td>\n",
              "      <td>...</td>\n",
              "      <td>20.0</td>\n",
              "      <td>0.0</td>\n",
              "      <td>0.0</td>\n",
              "      <td>0.0</td>\n",
              "      <td>0.0</td>\n",
              "      <td>0.0</td>\n",
              "      <td>0.0</td>\n",
              "      <td>0.0</td>\n",
              "      <td>0.0</td>\n",
              "      <td>14</td>\n",
              "    </tr>\n",
              "    <tr>\n",
              "      <th>3</th>\n",
              "      <td>88.0</td>\n",
              "      <td>879.0</td>\n",
              "      <td>9.0</td>\n",
              "      <td>4.0</td>\n",
              "      <td>656.0</td>\n",
              "      <td>3064.0</td>\n",
              "      <td>313.0</td>\n",
              "      <td>0.0</td>\n",
              "      <td>72.888885</td>\n",
              "      <td>136.153809</td>\n",
              "      <td>...</td>\n",
              "      <td>20.0</td>\n",
              "      <td>0.0</td>\n",
              "      <td>0.0</td>\n",
              "      <td>0.0</td>\n",
              "      <td>0.0</td>\n",
              "      <td>0.0</td>\n",
              "      <td>0.0</td>\n",
              "      <td>0.0</td>\n",
              "      <td>0.0</td>\n",
              "      <td>14</td>\n",
              "    </tr>\n",
              "    <tr>\n",
              "      <th>4</th>\n",
              "      <td>88.0</td>\n",
              "      <td>1160.0</td>\n",
              "      <td>9.0</td>\n",
              "      <td>6.0</td>\n",
              "      <td>3134.0</td>\n",
              "      <td>3048.0</td>\n",
              "      <td>1552.0</td>\n",
              "      <td>0.0</td>\n",
              "      <td>348.222229</td>\n",
              "      <td>682.482544</td>\n",
              "      <td>...</td>\n",
              "      <td>20.0</td>\n",
              "      <td>0.0</td>\n",
              "      <td>0.0</td>\n",
              "      <td>0.0</td>\n",
              "      <td>0.0</td>\n",
              "      <td>0.0</td>\n",
              "      <td>0.0</td>\n",
              "      <td>0.0</td>\n",
              "      <td>0.0</td>\n",
              "      <td>14</td>\n",
              "    </tr>\n",
              "  </tbody>\n",
              "</table>\n",
              "<p>5 rows × 71 columns</p>\n",
              "</div>\n",
              "      <button class=\"colab-df-convert\" onclick=\"convertToInteractive('df-d3df6222-7904-4e10-bbe3-7b7e991a0154')\"\n",
              "              title=\"Convert this dataframe to an interactive table.\"\n",
              "              style=\"display:none;\">\n",
              "        \n",
              "  <svg xmlns=\"http://www.w3.org/2000/svg\" height=\"24px\"viewBox=\"0 0 24 24\"\n",
              "       width=\"24px\">\n",
              "    <path d=\"M0 0h24v24H0V0z\" fill=\"none\"/>\n",
              "    <path d=\"M18.56 5.44l.94 2.06.94-2.06 2.06-.94-2.06-.94-.94-2.06-.94 2.06-2.06.94zm-11 1L8.5 8.5l.94-2.06 2.06-.94-2.06-.94L8.5 2.5l-.94 2.06-2.06.94zm10 10l.94 2.06.94-2.06 2.06-.94-2.06-.94-.94-2.06-.94 2.06-2.06.94z\"/><path d=\"M17.41 7.96l-1.37-1.37c-.4-.4-.92-.59-1.43-.59-.52 0-1.04.2-1.43.59L10.3 9.45l-7.72 7.72c-.78.78-.78 2.05 0 2.83L4 21.41c.39.39.9.59 1.41.59.51 0 1.02-.2 1.41-.59l7.78-7.78 2.81-2.81c.8-.78.8-2.07 0-2.86zM5.41 20L4 18.59l7.72-7.72 1.47 1.35L5.41 20z\"/>\n",
              "  </svg>\n",
              "      </button>\n",
              "      \n",
              "  <style>\n",
              "    .colab-df-container {\n",
              "      display:flex;\n",
              "      flex-wrap:wrap;\n",
              "      gap: 12px;\n",
              "    }\n",
              "\n",
              "    .colab-df-convert {\n",
              "      background-color: #E8F0FE;\n",
              "      border: none;\n",
              "      border-radius: 50%;\n",
              "      cursor: pointer;\n",
              "      display: none;\n",
              "      fill: #1967D2;\n",
              "      height: 32px;\n",
              "      padding: 0 0 0 0;\n",
              "      width: 32px;\n",
              "    }\n",
              "\n",
              "    .colab-df-convert:hover {\n",
              "      background-color: #E2EBFA;\n",
              "      box-shadow: 0px 1px 2px rgba(60, 64, 67, 0.3), 0px 1px 3px 1px rgba(60, 64, 67, 0.15);\n",
              "      fill: #174EA6;\n",
              "    }\n",
              "\n",
              "    [theme=dark] .colab-df-convert {\n",
              "      background-color: #3B4455;\n",
              "      fill: #D2E3FC;\n",
              "    }\n",
              "\n",
              "    [theme=dark] .colab-df-convert:hover {\n",
              "      background-color: #434B5C;\n",
              "      box-shadow: 0px 1px 3px 1px rgba(0, 0, 0, 0.15);\n",
              "      filter: drop-shadow(0px 1px 2px rgba(0, 0, 0, 0.3));\n",
              "      fill: #FFFFFF;\n",
              "    }\n",
              "  </style>\n",
              "\n",
              "      <script>\n",
              "        const buttonEl =\n",
              "          document.querySelector('#df-d3df6222-7904-4e10-bbe3-7b7e991a0154 button.colab-df-convert');\n",
              "        buttonEl.style.display =\n",
              "          google.colab.kernel.accessAllowed ? 'block' : 'none';\n",
              "\n",
              "        async function convertToInteractive(key) {\n",
              "          const element = document.querySelector('#df-d3df6222-7904-4e10-bbe3-7b7e991a0154');\n",
              "          const dataTable =\n",
              "            await google.colab.kernel.invokeFunction('convertToInteractive',\n",
              "                                                     [key], {});\n",
              "          if (!dataTable) return;\n",
              "\n",
              "          const docLinkHtml = 'Like what you see? Visit the ' +\n",
              "            '<a target=\"_blank\" href=https://colab.research.google.com/notebooks/data_table.ipynb>data table notebook</a>'\n",
              "            + ' to learn more about interactive tables.';\n",
              "          element.innerHTML = '';\n",
              "          dataTable['output_type'] = 'display_data';\n",
              "          await google.colab.output.renderOutput(dataTable, element);\n",
              "          const docLink = document.createElement('div');\n",
              "          docLink.innerHTML = docLinkHtml;\n",
              "          element.appendChild(docLink);\n",
              "        }\n",
              "      </script>\n",
              "    </div>\n",
              "  </div>\n",
              "  "
            ],
            "text/plain": [
              "   DestinationPort  FlowDuration  TotalFwdPackets  TotalBackwardPackets  \\\n",
              "0          49188.0           4.0              2.0                   0.0   \n",
              "1          49486.0           3.0              2.0                   0.0   \n",
              "2             88.0         609.0              7.0                   4.0   \n",
              "3             88.0         879.0              9.0                   4.0   \n",
              "4             88.0        1160.0              9.0                   6.0   \n",
              "\n",
              "   TotalLengthofFwdPackets  TotalLengthofBwdPackets  FwdPacketLengthMax  \\\n",
              "0                     12.0                      0.0                 6.0   \n",
              "1                     12.0                      0.0                 6.0   \n",
              "2                    484.0                    414.0               233.0   \n",
              "3                    656.0                   3064.0               313.0   \n",
              "4                   3134.0                   3048.0              1552.0   \n",
              "\n",
              "   FwdPacketLengthMin  FwdPacketLengthMean  FwdPacketLengthStd  ...  \\\n",
              "0                 6.0             6.000000            0.000000  ...   \n",
              "1                 6.0             6.000000            0.000000  ...   \n",
              "2                 0.0            69.142860          111.967896  ...   \n",
              "3                 0.0            72.888885          136.153809  ...   \n",
              "4                 0.0           348.222229          682.482544  ...   \n",
              "\n",
              "   min_seg_size_forward  ActiveMean  ActiveStd  ActiveMax  ActiveMin  \\\n",
              "0                  20.0         0.0        0.0        0.0        0.0   \n",
              "1                  20.0         0.0        0.0        0.0        0.0   \n",
              "2                  20.0         0.0        0.0        0.0        0.0   \n",
              "3                  20.0         0.0        0.0        0.0        0.0   \n",
              "4                  20.0         0.0        0.0        0.0        0.0   \n",
              "\n",
              "   IdleMean  IdleStd  IdleMax  IdleMin  Label  \n",
              "0       0.0      0.0      0.0      0.0     14  \n",
              "1       0.0      0.0      0.0      0.0     14  \n",
              "2       0.0      0.0      0.0      0.0     14  \n",
              "3       0.0      0.0      0.0      0.0     14  \n",
              "4       0.0      0.0      0.0      0.0     14  \n",
              "\n",
              "[5 rows x 71 columns]"
            ]
          },
          "execution_count": 14,
          "metadata": {},
          "output_type": "execute_result"
        }
      ],
      "source": [
        "# Replacing string label with equivalent number labels\n",
        "merge_df['Label'] = LE.fit_transform(merge_df['Label'])\n",
        "merge_df.head()"
      ]
    },
    {
      "cell_type": "code",
      "execution_count": null,
      "id": "5b7cd9c8",
      "metadata": {
        "id": "5b7cd9c8"
      },
      "outputs": [],
      "source": [
        "# Now we are saving dataset such that labels are encoded\n",
        "merge_df.to_csv(dataset_path+'processed/cleanDatasetWithEncoding.csv', index=False)"
      ]
    }
  ],
  "metadata": {
    "colab": {
      "collapsed_sections": [],
      "name": "Preprocessing (Data Cleaning-1).ipynb",
      "provenance": []
    },
    "kernelspec": {
      "display_name": "Python 3 (ipykernel)",
      "language": "python",
      "name": "python3"
    },
    "language_info": {
      "codemirror_mode": {
        "name": "ipython",
        "version": 3
      },
      "file_extension": ".py",
      "mimetype": "text/x-python",
      "name": "python",
      "nbconvert_exporter": "python",
      "pygments_lexer": "ipython3",
      "version": "3.9.12"
    }
  },
  "nbformat": 4,
  "nbformat_minor": 5
}
